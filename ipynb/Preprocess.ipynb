{
 "cells": [
  {
   "cell_type": "markdown",
   "metadata": {},
   "source": [
    "# Import Module"
   ]
  },
  {
   "cell_type": "code",
   "execution_count": 143,
   "metadata": {
    "ExecuteTime": {
     "end_time": "2020-07-14T10:15:24.061279Z",
     "start_time": "2020-07-14T10:15:24.051142Z"
    }
   },
   "outputs": [
    {
     "name": "stdout",
     "output_type": "stream",
     "text": [
      "['Challenger_Ranked_Games_10minute.csv', 'Challenger_Ranked_Games_15minute.csv', 'preprocessing']\n"
     ]
    }
   ],
   "source": [
    "import numpy as np\n",
    "import pandas as pd\n",
    "\n",
    "from sklearn.model_selection import train_test_split\n",
    "\n",
    "import warnings\n",
    "import os\n",
    "warnings.filterwarnings('ignore')\n",
    "print(os.listdir('../dataset'))"
   ]
  },
  {
   "cell_type": "markdown",
   "metadata": {},
   "source": [
    "# Load Data\n",
    "\n",
    "## Raw"
   ]
  },
  {
   "cell_type": "code",
   "execution_count": 144,
   "metadata": {
    "ExecuteTime": {
     "end_time": "2020-07-14T10:15:24.412483Z",
     "start_time": "2020-07-14T10:15:24.065430Z"
    },
    "scrolled": true
   },
   "outputs": [
    {
     "name": "stdout",
     "output_type": "stream",
     "text": [
      "Full Dataset Shape:  (26409, 51)\n"
     ]
    }
   ],
   "source": [
    "select_data_loc = os.listdir('../dataset')[0]\n",
    "\n",
    "data = pd.read_csv('../dataset/' + select_data_loc)\n",
    "print(\"Full Dataset Shape: \", data.shape)\n",
    "\n",
    "# delete label\n",
    "data.drop(columns = 'redWins', inplace = True)"
   ]
  },
  {
   "cell_type": "markdown",
   "metadata": {},
   "source": [
    "### Check Data Shape"
   ]
  },
  {
   "cell_type": "code",
   "execution_count": 145,
   "metadata": {
    "ExecuteTime": {
     "end_time": "2020-07-14T10:15:24.472053Z",
     "start_time": "2020-07-14T10:15:24.416478Z"
    }
   },
   "outputs": [
    {
     "data": {
      "text/html": [
       "<div>\n",
       "<style scoped>\n",
       "    .dataframe tbody tr th:only-of-type {\n",
       "        vertical-align: middle;\n",
       "    }\n",
       "\n",
       "    .dataframe tbody tr th {\n",
       "        vertical-align: top;\n",
       "    }\n",
       "\n",
       "    .dataframe thead th {\n",
       "        text-align: right;\n",
       "    }\n",
       "</style>\n",
       "<table border=\"1\" class=\"dataframe\">\n",
       "  <thead>\n",
       "    <tr style=\"text-align: right;\">\n",
       "      <th></th>\n",
       "      <th>gameId</th>\n",
       "      <th>blueWins</th>\n",
       "      <th>blueTotalGolds</th>\n",
       "      <th>blueCurrentGolds</th>\n",
       "      <th>blueTotalLevel</th>\n",
       "      <th>blueAvgLevel</th>\n",
       "      <th>blueTotalMinionKills</th>\n",
       "      <th>blueTotalJungleMinionKills</th>\n",
       "      <th>blueFirstBlood</th>\n",
       "      <th>blueKill</th>\n",
       "      <th>...</th>\n",
       "      <th>redFirstTowerLane</th>\n",
       "      <th>redTowerKills</th>\n",
       "      <th>redMidTowerKills</th>\n",
       "      <th>redTopTowerKills</th>\n",
       "      <th>redBotTowerKills</th>\n",
       "      <th>redInhibitor</th>\n",
       "      <th>redFirstDragon</th>\n",
       "      <th>redDragnoType</th>\n",
       "      <th>redDragon</th>\n",
       "      <th>redRiftHeralds</th>\n",
       "    </tr>\n",
       "  </thead>\n",
       "  <tbody>\n",
       "    <tr>\n",
       "      <th>0</th>\n",
       "      <td>4247263043</td>\n",
       "      <td>0</td>\n",
       "      <td>14870</td>\n",
       "      <td>2889</td>\n",
       "      <td>32</td>\n",
       "      <td>6.4</td>\n",
       "      <td>199</td>\n",
       "      <td>53</td>\n",
       "      <td>0</td>\n",
       "      <td>3</td>\n",
       "      <td>...</td>\n",
       "      <td>[]</td>\n",
       "      <td>0</td>\n",
       "      <td>0</td>\n",
       "      <td>0</td>\n",
       "      <td>0</td>\n",
       "      <td>0</td>\n",
       "      <td>1</td>\n",
       "      <td>['WATER_DRAGON']</td>\n",
       "      <td>1</td>\n",
       "      <td>0</td>\n",
       "    </tr>\n",
       "    <tr>\n",
       "      <th>1</th>\n",
       "      <td>4247155821</td>\n",
       "      <td>1</td>\n",
       "      <td>14497</td>\n",
       "      <td>2617</td>\n",
       "      <td>33</td>\n",
       "      <td>6.6</td>\n",
       "      <td>229</td>\n",
       "      <td>44</td>\n",
       "      <td>0</td>\n",
       "      <td>2</td>\n",
       "      <td>...</td>\n",
       "      <td>[]</td>\n",
       "      <td>0</td>\n",
       "      <td>0</td>\n",
       "      <td>0</td>\n",
       "      <td>0</td>\n",
       "      <td>0</td>\n",
       "      <td>0</td>\n",
       "      <td>[]</td>\n",
       "      <td>0</td>\n",
       "      <td>0</td>\n",
       "    </tr>\n",
       "    <tr>\n",
       "      <th>2</th>\n",
       "      <td>4243963257</td>\n",
       "      <td>0</td>\n",
       "      <td>15617</td>\n",
       "      <td>1757</td>\n",
       "      <td>34</td>\n",
       "      <td>6.8</td>\n",
       "      <td>223</td>\n",
       "      <td>39</td>\n",
       "      <td>0</td>\n",
       "      <td>3</td>\n",
       "      <td>...</td>\n",
       "      <td>['BOT_LANE']</td>\n",
       "      <td>1</td>\n",
       "      <td>0</td>\n",
       "      <td>0</td>\n",
       "      <td>1</td>\n",
       "      <td>0</td>\n",
       "      <td>1</td>\n",
       "      <td>['FIRE_DRAGON']</td>\n",
       "      <td>1</td>\n",
       "      <td>1</td>\n",
       "    </tr>\n",
       "    <tr>\n",
       "      <th>3</th>\n",
       "      <td>4241678498</td>\n",
       "      <td>0</td>\n",
       "      <td>15684</td>\n",
       "      <td>1439</td>\n",
       "      <td>35</td>\n",
       "      <td>7.0</td>\n",
       "      <td>251</td>\n",
       "      <td>64</td>\n",
       "      <td>0</td>\n",
       "      <td>3</td>\n",
       "      <td>...</td>\n",
       "      <td>[]</td>\n",
       "      <td>0</td>\n",
       "      <td>0</td>\n",
       "      <td>0</td>\n",
       "      <td>0</td>\n",
       "      <td>0</td>\n",
       "      <td>0</td>\n",
       "      <td>[]</td>\n",
       "      <td>0</td>\n",
       "      <td>0</td>\n",
       "    </tr>\n",
       "    <tr>\n",
       "      <th>4</th>\n",
       "      <td>4241538868</td>\n",
       "      <td>1</td>\n",
       "      <td>17472</td>\n",
       "      <td>3512</td>\n",
       "      <td>35</td>\n",
       "      <td>7.0</td>\n",
       "      <td>257</td>\n",
       "      <td>46</td>\n",
       "      <td>0</td>\n",
       "      <td>7</td>\n",
       "      <td>...</td>\n",
       "      <td>[]</td>\n",
       "      <td>0</td>\n",
       "      <td>0</td>\n",
       "      <td>0</td>\n",
       "      <td>0</td>\n",
       "      <td>0</td>\n",
       "      <td>0</td>\n",
       "      <td>[]</td>\n",
       "      <td>0</td>\n",
       "      <td>0</td>\n",
       "    </tr>\n",
       "  </tbody>\n",
       "</table>\n",
       "<p>5 rows × 50 columns</p>\n",
       "</div>"
      ],
      "text/plain": [
       "       gameId  blueWins  blueTotalGolds  blueCurrentGolds  blueTotalLevel  \\\n",
       "0  4247263043         0           14870              2889              32   \n",
       "1  4247155821         1           14497              2617              33   \n",
       "2  4243963257         0           15617              1757              34   \n",
       "3  4241678498         0           15684              1439              35   \n",
       "4  4241538868         1           17472              3512              35   \n",
       "\n",
       "   blueAvgLevel  blueTotalMinionKills  blueTotalJungleMinionKills  \\\n",
       "0           6.4                   199                          53   \n",
       "1           6.6                   229                          44   \n",
       "2           6.8                   223                          39   \n",
       "3           7.0                   251                          64   \n",
       "4           7.0                   257                          46   \n",
       "\n",
       "   blueFirstBlood  blueKill  ...  redFirstTowerLane  redTowerKills  \\\n",
       "0               0         3  ...                 []              0   \n",
       "1               0         2  ...                 []              0   \n",
       "2               0         3  ...       ['BOT_LANE']              1   \n",
       "3               0         3  ...                 []              0   \n",
       "4               0         7  ...                 []              0   \n",
       "\n",
       "   redMidTowerKills  redTopTowerKills  redBotTowerKills  redInhibitor  \\\n",
       "0                 0                 0                 0             0   \n",
       "1                 0                 0                 0             0   \n",
       "2                 0                 0                 1             0   \n",
       "3                 0                 0                 0             0   \n",
       "4                 0                 0                 0             0   \n",
       "\n",
       "  redFirstDragon     redDragnoType  redDragon  redRiftHeralds  \n",
       "0              1  ['WATER_DRAGON']          1               0  \n",
       "1              0                []          0               0  \n",
       "2              1   ['FIRE_DRAGON']          1               1  \n",
       "3              0                []          0               0  \n",
       "4              0                []          0               0  \n",
       "\n",
       "[5 rows x 50 columns]"
      ]
     },
     "execution_count": 145,
     "metadata": {},
     "output_type": "execute_result"
    }
   ],
   "source": [
    "data.head()"
   ]
  },
  {
   "cell_type": "markdown",
   "metadata": {},
   "source": [
    "# Basic Process"
   ]
  },
  {
   "cell_type": "markdown",
   "metadata": {},
   "source": [
    "## Train Test Split\n",
    "\n",
    "Use the seed used in Who_is_win_Exploration Data Analysis_v1. Therefore, training data and test data are the same as before."
   ]
  },
  {
   "cell_type": "code",
   "execution_count": 146,
   "metadata": {
    "ExecuteTime": {
     "end_time": "2020-07-14T10:15:24.613699Z",
     "start_time": "2020-07-14T10:15:24.476043Z"
    }
   },
   "outputs": [
    {
     "name": "stdout",
     "output_type": "stream",
     "text": [
      "Train Data Shape :  (19806, 50)\n",
      "Test Data Shape :  (6603, 50)\n"
     ]
    }
   ],
   "source": [
    "X_train, X_test, y_train, y_test = train_test_split(data.drop(columns = 'blueWins'), data['blueWins'], test_size = 0.25, random_state = 42)\n",
    "\n",
    "train = pd.concat([X_train, y_train], axis = 1)\n",
    "train.reset_index(drop = True, inplace = True)\n",
    "test = pd.concat([X_test, y_test], axis = 1).reset_index(drop = True)\n",
    "test.reset_index(drop = True, inplace = True)\n",
    "\n",
    "print(\"Train Data Shape : \", train.shape)\n",
    "print(\"Test Data Shape : \", test.shape)"
   ]
  },
  {
   "cell_type": "markdown",
   "metadata": {},
   "source": [
    "# Main Process\n",
    "\n",
    "## Create Derived Feature\n",
    "\n",
    "The highest feature importance in the baseline model could be seen as a kd/a feature. Therefore, the kd/a variable is created first."
   ]
  },
  {
   "cell_type": "code",
   "execution_count": 147,
   "metadata": {
    "ExecuteTime": {
     "end_time": "2020-07-14T10:15:24.632941Z",
     "start_time": "2020-07-14T10:15:24.614959Z"
    }
   },
   "outputs": [],
   "source": [
    "def DerivedFeature_KDA(data):    \n",
    "    data['blueKd/a'] = (data['blueKill'] + data['blueAssist']) / data['blueDeath']\n",
    "    data['redKd/a'] = (data['redKill'] + data['redAssist']) / data['redDeath']\n",
    "    \n",
    "    data.loc[~np.isfinite(data['blueKd/a']), 'blueKd/a'] = (data['blueKill'] + data['blueAssist']) / 1\n",
    "    data.loc[~np.isfinite(data['redKd/a']), 'redKd/a'] = (data['redKill'] + data['redAssist']) / 1\n",
    "    \n",
    "    return data"
   ]
  },
  {
   "cell_type": "code",
   "execution_count": 148,
   "metadata": {
    "ExecuteTime": {
     "end_time": "2020-07-14T10:15:24.735999Z",
     "start_time": "2020-07-14T10:15:24.638258Z"
    }
   },
   "outputs": [],
   "source": [
    "train = DerivedFeature_KDA(train)\n",
    "test = DerivedFeature_KDA(test)"
   ]
  },
  {
   "cell_type": "markdown",
   "metadata": {},
   "source": [
    "### Categorical Encode\n",
    "\n",
    "- blueFirstTowerLane: Blue team's first kill lane for 10 minutes.\n",
    "\n",
    "\n",
    "- blueDragnoType: Type of Dragon killed by Blue Team for 10 minutes.\n",
    "\n",
    "\n",
    "- redFirstTowerLane: Red team's first kill lane for 10 minutes.\n",
    "\n",
    "\n",
    "- redDragnoType: Type of Dragon killed by Red Team for 10 minutes."
   ]
  },
  {
   "cell_type": "markdown",
   "metadata": {},
   "source": [
    "#### DragonType\n",
    "\n",
    "In League of Legends, the dragon's first appearance is five minutes after the game starts. Five minutes after the first dragon was killed, a new dragon appeared, and there are observations of multiple dragons in the data.\n",
    "\n",
    "In fact, each accounted for only 0.3% of odd values in exploratory data analysis. Therefore, the value of the dragon being disposed of more than once is recognized as an observation error and the observed value is removed.\n",
    "\n",
    "Elder Dragon is a dragon that appears when a team kills four dragons. Because it cannot occur realistically, this observation is also removed.\n",
    "\n",
    "Finally, these observations are excluded because there is no such situation where both teams have eliminated the dragon.\n",
    "\n",
    "Reference: [리그 오브 레전드/드래곤 - 나무위키](https://namu.wiki/w/%EB%A6%AC%EA%B7%B8%20%EC%98%A4%EB%B8%8C%20%EB%A0%88%EC%A0%84%EB%93%9C/%EB%93%9C%EB%9E%98%EA%B3%A4#s-2.2)"
   ]
  },
  {
   "cell_type": "code",
   "execution_count": 149,
   "metadata": {
    "ExecuteTime": {
     "end_time": "2020-07-14T10:15:24.885112Z",
     "start_time": "2020-07-14T10:15:24.747969Z"
    }
   },
   "outputs": [
    {
     "name": "stdout",
     "output_type": "stream",
     "text": [
      "True Dragon Type Value:  [\"['AIR_DRAGON']\", '[]', \"['WATER_DRAGON']\", \"['FIRE_DRAGON']\", \"['EARTH_DRAGON']\", '[ELDER_DRAGON]'] \n",
      "\n",
      "Train Data Shape: (19693, 52)\n",
      "test Data Shape: (6571, 52)\n"
     ]
    }
   ],
   "source": [
    "dragon_type = train['blueDragnoType'].unique().tolist()\n",
    "true_value = dragon_type[:5] + [\"[ELDER_DRAGON]\"]\n",
    "print(\"True Dragon Type Value: \", true_value, '\\n')\n",
    "\n",
    "train = train.loc[(train['blueDragnoType'].isin(true_value)) & (train['redDragnoType'].isin(true_value))]\n",
    "train = train.loc[~((train['blueDragnoType'] != \"[]\") &(train['redDragnoType'] != '[]'))]\n",
    "print('Train Data Shape:', train.shape)\n",
    "\n",
    "test = test.loc[(test['blueDragnoType'].isin(true_value)) & (test['redDragnoType'].isin(true_value))]\n",
    "test = test.loc[~((test['blueDragnoType'] != \"[]\") &(test['redDragnoType'] != '[]'))]\n",
    "print('test Data Shape:', test.shape)"
   ]
  },
  {
   "cell_type": "markdown",
   "metadata": {},
   "source": [
    "It can be seen that the variables associated with Dragon Elimination are FirstDragon and DragonType. Within 10 minutes of the start of the game, there are a total of three situations in Dragon Elimination.\n",
    "\n",
    "1. The blue team killed the dragon\n",
    "\n",
    "\n",
    "2. The red team killed the dragon\n",
    "\n",
    "\n",
    "3. The dragon has not been killed\n",
    "\n",
    "Generates feature that can represent these three.\n",
    "\n",
    "<img src=\"../image/Dragon_Feature.png\" width=\"450\">\n",
    "\n",
    "It can be seen that the FirstDragon feature is a higher concept for DragonType features. In other words, DragonType is the detailed feature of FirstDragon.\n",
    "\n",
    "Therefore, the FirstDragon feature is not used.\n",
    "\n",
    "The three cases above may be described using the DragonType feature as follows:\n",
    "\n",
    "1. [__DRAGON], []\n",
    "2. [], [__DRAGON]\n",
    "3. [], []\n",
    "\n",
    "Merge the two features to create derived features associated with Dragon Kill. <b> It is expected that this will reduce unnecessary dimensions.</b>\n",
    "\n",
    "In addition, Dragon, FirstDragon, is a duplicate feature and therefore all are deleted. Because DragonKill features can all explain."
   ]
  },
  {
   "cell_type": "code",
   "execution_count": 150,
   "metadata": {
    "ExecuteTime": {
     "end_time": "2020-07-14T10:15:24.932698Z",
     "start_time": "2020-07-14T10:15:24.889135Z"
    },
    "scrolled": true
   },
   "outputs": [
    {
     "name": "stdout",
     "output_type": "stream",
     "text": [
      "Train Dataset Shape: (19693, 47)\n",
      "test Dataset Shape: (6571, 47)\n"
     ]
    }
   ],
   "source": [
    "train['dragonKill'] = train['blueDragnoType'] + train['redDragnoType']\n",
    "train.drop(columns = ['blueDragnoType', 'redDragnoType', 'blueDragon', 'blueFirstDragon', 'redDragon', 'redFirstDragon'], inplace = True)\n",
    "\n",
    "print('Train Dataset Shape:', train.shape)\n",
    "\n",
    "test['dragonKill'] = test['blueDragnoType'] + test['redDragnoType']\n",
    "test.drop(columns = ['blueDragnoType', 'redDragnoType', 'blueDragon', 'blueFirstDragon', 'redDragon', 'redFirstDragon'], inplace = True)\n",
    "\n",
    "print('test Dataset Shape:', test.shape)"
   ]
  },
  {
   "cell_type": "code",
   "execution_count": 151,
   "metadata": {
    "ExecuteTime": {
     "end_time": "2020-07-14T10:15:24.946349Z",
     "start_time": "2020-07-14T10:15:24.932698Z"
    }
   },
   "outputs": [
    {
     "data": {
      "text/plain": [
       "0      ['AIR_DRAGON'][]\n",
       "1     []['FIRE_DRAGON']\n",
       "2    ['WATER_DRAGON'][]\n",
       "3                  [][]\n",
       "4    []['WATER_DRAGON']\n",
       "Name: dragonKill, dtype: object"
      ]
     },
     "execution_count": 151,
     "metadata": {},
     "output_type": "execute_result"
    }
   ],
   "source": [
    "train['dragonKill'].head()"
   ]
  },
  {
   "cell_type": "markdown",
   "metadata": {},
   "source": [
    "#### Tower\n",
    "\n",
    "There are four situations.\n",
    "1. Only the blue team kill\n",
    "\n",
    "\n",
    "2. Only the red team kill\n",
    "\n",
    "\n",
    "3. both sides kill\n",
    "\n",
    "\n",
    "4. both sides didn't kill\n",
    "\n",
    "First, the TowerKills feature can be subdivided into MidTowerKills, TopTowerKills and BotTowerKills. Therefore, the TowerKills variable is not considered.\n",
    "\n",
    "FirstTower is a feature that shows which team got the first kill. No FirstTower = 1 exists for both teams.Therefore, three situations can be explained using two features.\n",
    "\n",
    "1. Blue Team First Kill\n",
    "\n",
    "\n",
    "2. Red Team First Kill\n",
    "\n",
    "\n",
    "3. No First Kill Occurred\n",
    "\n",
    "<img src=\"../image/Tower_Feature.png\" width=\"300\">\n",
    "\n",
    "\n",
    "The above two features can be seen as One-Hot Encode features for the First Kill.However, you can see that the FirstTowerLane feature allows you to subdivide the FirstTowern. <b> Therefore, the FirstTower feature is not used. </b>\n",
    "\n",
    "\n"
   ]
  },
  {
   "cell_type": "code",
   "execution_count": 152,
   "metadata": {
    "ExecuteTime": {
     "end_time": "2020-07-14T10:15:24.994742Z",
     "start_time": "2020-07-14T10:15:24.950370Z"
    }
   },
   "outputs": [
    {
     "name": "stdout",
     "output_type": "stream",
     "text": [
      "Train Data Shape:  (19693, 46)\n",
      "test Data Shape:  (6571, 46)\n"
     ]
    }
   ],
   "source": [
    "train['FirstKillLane'] = train['blueFirstTowerLane'] + train['redFirstTowerLane']\n",
    "train.drop(columns = ['blueFirstTowerLane', 'redFirstTowerLane'], inplace = True)\n",
    "print('Train Data Shape: ', train.shape)\n",
    "\n",
    "test['FirstKillLane'] = test['blueFirstTowerLane'] + test['redFirstTowerLane']\n",
    "test.drop(columns = ['blueFirstTowerLane', 'redFirstTowerLane'], inplace = True)\n",
    "print('test Data Shape: ', test.shape)"
   ]
  },
  {
   "cell_type": "code",
   "execution_count": 153,
   "metadata": {
    "ExecuteTime": {
     "end_time": "2020-07-14T10:15:25.011483Z",
     "start_time": "2020-07-14T10:15:24.998741Z"
    }
   },
   "outputs": [
    {
     "data": {
      "text/plain": [
       "0    ['BOT_LANE'][]\n",
       "1              [][]\n",
       "2              [][]\n",
       "3    []['TOP_LANE']\n",
       "4              [][]\n",
       "Name: FirstKillLane, dtype: object"
      ]
     },
     "execution_count": 153,
     "metadata": {},
     "output_type": "execute_result"
    }
   ],
   "source": [
    "train['FirstKillLane'].head()"
   ]
  },
  {
   "cell_type": "markdown",
   "metadata": {},
   "source": [
    "The sum of MidTowerKills, TopTowerKills, and BotTowerKills features was expected to equal the Kill feature, but there was a difference in value. It can be seen that the kill occurred purely in the line battle. Therefore, these features are used as they are."
   ]
  },
  {
   "cell_type": "code",
   "execution_count": 154,
   "metadata": {
    "ExecuteTime": {
     "end_time": "2020-07-14T10:15:25.036478Z",
     "start_time": "2020-07-14T10:15:25.017479Z"
    }
   },
   "outputs": [
    {
     "data": {
      "text/html": [
       "<div>\n",
       "<style scoped>\n",
       "    .dataframe tbody tr th:only-of-type {\n",
       "        vertical-align: middle;\n",
       "    }\n",
       "\n",
       "    .dataframe tbody tr th {\n",
       "        vertical-align: top;\n",
       "    }\n",
       "\n",
       "    .dataframe thead th {\n",
       "        text-align: right;\n",
       "    }\n",
       "</style>\n",
       "<table border=\"1\" class=\"dataframe\">\n",
       "  <thead>\n",
       "    <tr style=\"text-align: right;\">\n",
       "      <th></th>\n",
       "      <th>blueKill</th>\n",
       "      <th>blueMidTowerKills</th>\n",
       "      <th>blueTopTowerKills</th>\n",
       "      <th>blueBotTowerKills</th>\n",
       "    </tr>\n",
       "  </thead>\n",
       "  <tbody>\n",
       "    <tr>\n",
       "      <th>0</th>\n",
       "      <td>13</td>\n",
       "      <td>0</td>\n",
       "      <td>0</td>\n",
       "      <td>1</td>\n",
       "    </tr>\n",
       "    <tr>\n",
       "      <th>1</th>\n",
       "      <td>5</td>\n",
       "      <td>0</td>\n",
       "      <td>0</td>\n",
       "      <td>0</td>\n",
       "    </tr>\n",
       "    <tr>\n",
       "      <th>2</th>\n",
       "      <td>5</td>\n",
       "      <td>0</td>\n",
       "      <td>0</td>\n",
       "      <td>0</td>\n",
       "    </tr>\n",
       "    <tr>\n",
       "      <th>3</th>\n",
       "      <td>8</td>\n",
       "      <td>0</td>\n",
       "      <td>0</td>\n",
       "      <td>0</td>\n",
       "    </tr>\n",
       "    <tr>\n",
       "      <th>4</th>\n",
       "      <td>4</td>\n",
       "      <td>0</td>\n",
       "      <td>0</td>\n",
       "      <td>0</td>\n",
       "    </tr>\n",
       "  </tbody>\n",
       "</table>\n",
       "</div>"
      ],
      "text/plain": [
       "   blueKill  blueMidTowerKills  blueTopTowerKills  blueBotTowerKills\n",
       "0        13                  0                  0                  1\n",
       "1         5                  0                  0                  0\n",
       "2         5                  0                  0                  0\n",
       "3         8                  0                  0                  0\n",
       "4         4                  0                  0                  0"
      ]
     },
     "execution_count": 154,
     "metadata": {},
     "output_type": "execute_result"
    }
   ],
   "source": [
    "train[['blueKill', 'blueMidTowerKills', 'blueTopTowerKills', 'blueBotTowerKills']].head()"
   ]
  },
  {
   "cell_type": "markdown",
   "metadata": {},
   "source": [
    "# TO-DO"
   ]
  }
 ],
 "metadata": {
  "kernelspec": {
   "display_name": "Python 3",
   "language": "python",
   "name": "python3"
  },
  "language_info": {
   "codemirror_mode": {
    "name": "ipython",
    "version": 3
   },
   "file_extension": ".py",
   "mimetype": "text/x-python",
   "name": "python",
   "nbconvert_exporter": "python",
   "pygments_lexer": "ipython3",
   "version": "3.7.7"
  },
  "toc": {
   "base_numbering": 1,
   "nav_menu": {},
   "number_sections": true,
   "sideBar": true,
   "skip_h1_title": false,
   "title_cell": "Table of Contents",
   "title_sidebar": "Contents",
   "toc_cell": false,
   "toc_position": {
    "height": "calc(100% - 180px)",
    "left": "10px",
    "top": "150px",
    "width": "227.275px"
   },
   "toc_section_display": true,
   "toc_window_display": false
  },
  "varInspector": {
   "cols": {
    "lenName": 16,
    "lenType": 16,
    "lenVar": 40
   },
   "kernels_config": {
    "python": {
     "delete_cmd_postfix": "",
     "delete_cmd_prefix": "del ",
     "library": "var_list.py",
     "varRefreshCmd": "print(var_dic_list())"
    },
    "r": {
     "delete_cmd_postfix": ") ",
     "delete_cmd_prefix": "rm(",
     "library": "var_list.r",
     "varRefreshCmd": "cat(var_dic_list()) "
    }
   },
   "types_to_exclude": [
    "module",
    "function",
    "builtin_function_or_method",
    "instance",
    "_Feature"
   ],
   "window_display": false
  }
 },
 "nbformat": 4,
 "nbformat_minor": 4
}
