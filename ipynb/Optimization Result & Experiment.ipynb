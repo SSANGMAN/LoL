{
 "cells": [
  {
   "cell_type": "markdown",
   "metadata": {},
   "source": [
    "# Import Module"
   ]
  },
  {
   "cell_type": "code",
   "execution_count": 37,
   "metadata": {
    "ExecuteTime": {
     "end_time": "2020-07-21T06:39:35.765677Z",
     "start_time": "2020-07-21T06:39:35.752675Z"
    }
   },
   "outputs": [
    {
     "name": "stdout",
     "output_type": "stream",
     "text": [
      "['Challenger_Ranked_Games_10minute.csv', 'Challenger_Ranked_Games_15minute.csv', 'preprocessing']\n"
     ]
    }
   ],
   "source": [
    "import numpy as np\n",
    "import pandas as pd\n",
    "\n",
    "from xgboost import XGBClassifier\n",
    "\n",
    "import joblib\n",
    "import warnings\n",
    "import os\n",
    "import sys\n",
    "sys.path.append('../code')\n",
    "warnings.filterwarnings('ignore')\n",
    "print(os.listdir('../dataset'))\n",
    "\n",
    "from sklearn.metrics import accuracy_score, confusion_matrix\n",
    "\n",
    "from dataset.load import Load_Data\n",
    "from preprocessing.preprocessing import DeriveFeature, Preprocess\n",
    "from modeling.Validation import KFoldValidation\n",
    "from modeling.HyperParameterTuning import RandomForestEvaluation, XGBEvaluation\n"
   ]
  },
  {
   "cell_type": "markdown",
   "metadata": {},
   "source": [
    "# Load Dataset"
   ]
  },
  {
   "cell_type": "code",
   "execution_count": 20,
   "metadata": {
    "ExecuteTime": {
     "end_time": "2020-07-21T06:24:34.526611Z",
     "start_time": "2020-07-21T06:24:34.074582Z"
    }
   },
   "outputs": [
    {
     "name": "stdout",
     "output_type": "stream",
     "text": [
      "Train Dataset Shape:  (19806, 50)\n",
      "Test Dataset Shape:  (6603, 50)\n",
      "(19693, 58)\n",
      "(6571, 58)\n"
     ]
    }
   ],
   "source": [
    "data_path = '../dataset'\n",
    "\n",
    "# 1. Load Data\n",
    "train, test = Load_Data(data_path, minute = 10, return_test = True, split_size = 0.25)\n",
    "\n",
    "# 2. Preprocessing\n",
    "X_train, X_test, y_train, y_test = Preprocess(train, test, scaling = True)"
   ]
  },
  {
   "cell_type": "markdown",
   "metadata": {},
   "source": [
    "# Load Model"
   ]
  },
  {
   "cell_type": "code",
   "execution_count": 26,
   "metadata": {
    "ExecuteTime": {
     "end_time": "2020-07-21T06:25:31.667228Z",
     "start_time": "2020-07-21T06:25:21.664230Z"
    }
   },
   "outputs": [
    {
     "data": {
      "text/plain": [
       "XGBClassifier(base_score=0.5, booster='gbtree', colsample_bylevel=1,\n",
       "              colsample_bynode=1, colsample_bytree=1, gamma=0,\n",
       "              learning_rate=0.1, max_delta_step=0, max_depth=6,\n",
       "              min_child_weight=1, missing=None, n_estimators=100, n_jobs=1,\n",
       "              nthread=None, objective='binary:logistic', random_state=42,\n",
       "              reg_alpha=0, reg_lambda=1, scale_pos_weight=1, seed=None,\n",
       "              silent=None, subsample=1, verbosity=1)"
      ]
     },
     "execution_count": 26,
     "metadata": {},
     "output_type": "execute_result"
    }
   ],
   "source": [
    "model_path = '../model'\n",
    "\n",
    "pre_train_xgb = joblib.load(os.path.join(model_path, 'XGB_0.734'))\n",
    "default_xgb = XGBClassifier(max_depth = 6, random_state = 42)\n",
    "default_xgb.fit(X_train, y_train)"
   ]
  },
  {
   "cell_type": "markdown",
   "metadata": {},
   "source": [
    "# Prediction Test Data"
   ]
  },
  {
   "cell_type": "code",
   "execution_count": 27,
   "metadata": {
    "ExecuteTime": {
     "end_time": "2020-07-21T06:25:31.849226Z",
     "start_time": "2020-07-21T06:25:31.728229Z"
    }
   },
   "outputs": [
    {
     "name": "stdout",
     "output_type": "stream",
     "text": [
      "Pre-train Model Accuracy Score:  0.7339826510424593\n",
      "Default Model Accuracy Score:  0.7338304672043829\n"
     ]
    }
   ],
   "source": [
    "pre_train_pred = pre_train_xgb.predict(X_test)\n",
    "print(\"Pre-train Model Accuracy Score: \", accuracy_score(pre_train_pred, y_test))\n",
    "\n",
    "default_xgb_pred = default_xgb.predict(X_test)\n",
    "print(\"Default Model Accuracy Score: \", accuracy_score(default_xgb_pred, y_test))"
   ]
  },
  {
   "cell_type": "markdown",
   "metadata": {},
   "source": [
    "# Experiement\n",
    "\n",
    "Using the 10-minute game start data, put 15 minutes of data into the model and check the results of the win or loss prediction.\n",
    "\n",
    "It is important to note that this method is to experiment with how the model will perform in a completely different dataset, not actually available."
   ]
  },
  {
   "cell_type": "code",
   "execution_count": 35,
   "metadata": {
    "ExecuteTime": {
     "end_time": "2020-07-21T06:34:18.693456Z",
     "start_time": "2020-07-21T06:34:18.039458Z"
    }
   },
   "outputs": [
    {
     "name": "stdout",
     "output_type": "stream",
     "text": [
      "Train Dataset Shape:  (20125, 50)\n",
      "Test Dataset Shape:  (6709, 50)\n",
      "(8193, 58)\n",
      "(2752, 58)\n",
      "15 minute Dataset Shape:  (10945, 58)\n"
     ]
    }
   ],
   "source": [
    "train, test = Load_Data(data_path, minute = 15, return_test = True, split_size = 0.25)\n",
    "X_train, X_test, y_train, y_test = Preprocess(train, test, scaling = True)\n",
    "\n",
    "X_train = np.concatenate((X_train, X_test))\n",
    "y_train = np.concatenate((y_train, y_test))\n",
    "\n",
    "print(\"15 minute Dataset Shape: \", X_train.shape)"
   ]
  },
  {
   "cell_type": "markdown",
   "metadata": {},
   "source": [
    "## Pre-train Model Prediction"
   ]
  },
  {
   "cell_type": "code",
   "execution_count": 38,
   "metadata": {
    "ExecuteTime": {
     "end_time": "2020-07-21T06:39:48.386694Z",
     "start_time": "2020-07-21T06:39:48.270681Z"
    }
   },
   "outputs": [
    {
     "name": "stdout",
     "output_type": "stream",
     "text": [
      "Accuracy:  0.7889447236180904\n"
     ]
    },
    {
     "data": {
      "text/plain": [
       "array([[4083,  983],\n",
       "       [1327, 4552]], dtype=int64)"
      ]
     },
     "execution_count": 38,
     "metadata": {},
     "output_type": "execute_result"
    }
   ],
   "source": [
    "exp_pre_train_pred = pre_train_xgb.predict(X_train)\n",
    "print(\"Accuracy: \", accuracy_score(exp_pre_train_pred, y_train))\n",
    "confusion_matrix(exp_pre_train_pred, y_train)"
   ]
  },
  {
   "cell_type": "markdown",
   "metadata": {},
   "source": [
    "## Default Model Prediction"
   ]
  },
  {
   "cell_type": "code",
   "execution_count": 39,
   "metadata": {
    "ExecuteTime": {
     "end_time": "2020-07-21T06:46:23.759791Z",
     "start_time": "2020-07-21T06:46:23.640786Z"
    }
   },
   "outputs": [
    {
     "name": "stdout",
     "output_type": "stream",
     "text": [
      "Accuracy:  0.7860210141617177\n"
     ]
    },
    {
     "data": {
      "text/plain": [
       "array([[3995,  927],\n",
       "       [1415, 4608]], dtype=int64)"
      ]
     },
     "execution_count": 39,
     "metadata": {},
     "output_type": "execute_result"
    }
   ],
   "source": [
    "default_xgb_pred = default_xgb.predict(X_train)\n",
    "print(\"Accuracy: \", accuracy_score(default_xgb_pred, y_train))\n",
    "confusion_matrix(default_xgb_pred, y_train)"
   ]
  }
 ],
 "metadata": {
  "kernelspec": {
   "display_name": "Python 3",
   "language": "python",
   "name": "python3"
  },
  "language_info": {
   "codemirror_mode": {
    "name": "ipython",
    "version": 3
   },
   "file_extension": ".py",
   "mimetype": "text/x-python",
   "name": "python",
   "nbconvert_exporter": "python",
   "pygments_lexer": "ipython3",
   "version": "3.7.7"
  },
  "toc": {
   "base_numbering": 1,
   "nav_menu": {},
   "number_sections": true,
   "sideBar": true,
   "skip_h1_title": false,
   "title_cell": "Table of Contents",
   "title_sidebar": "Contents",
   "toc_cell": false,
   "toc_position": {},
   "toc_section_display": true,
   "toc_window_display": false
  },
  "varInspector": {
   "cols": {
    "lenName": 16,
    "lenType": 16,
    "lenVar": 40
   },
   "kernels_config": {
    "python": {
     "delete_cmd_postfix": "",
     "delete_cmd_prefix": "del ",
     "library": "var_list.py",
     "varRefreshCmd": "print(var_dic_list())"
    },
    "r": {
     "delete_cmd_postfix": ") ",
     "delete_cmd_prefix": "rm(",
     "library": "var_list.r",
     "varRefreshCmd": "cat(var_dic_list()) "
    }
   },
   "types_to_exclude": [
    "module",
    "function",
    "builtin_function_or_method",
    "instance",
    "_Feature"
   ],
   "window_display": false
  }
 },
 "nbformat": 4,
 "nbformat_minor": 4
}
