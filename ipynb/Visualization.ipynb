{
 "cells": [
  {
   "cell_type": "markdown",
   "metadata": {},
   "source": [
    "# Import Module"
   ]
  },
  {
   "cell_type": "code",
   "execution_count": 85,
   "metadata": {
    "ExecuteTime": {
     "end_time": "2020-07-30T14:22:00.649426Z",
     "start_time": "2020-07-30T14:22:00.636327Z"
    }
   },
   "outputs": [
    {
     "name": "stdout",
     "output_type": "stream",
     "text": [
      "['Preprocess_test.csv', 'Preprocess_train.csv']\n",
      "['XGB_0.731', 'XGB_0.734', 'XGB_0.735']\n"
     ]
    }
   ],
   "source": [
    "import numpy as np\n",
    "import pandas as pd\n",
    "import matplotlib.pyplot as plt\n",
    "import seaborn as sns\n",
    "\n",
    "import joblib\n",
    "import sys\n",
    "import os\n",
    "import warnings\n",
    "print(os.listdir('../dataset/preprocessing'))\n",
    "print(os.listdir('../model'))\n",
    "warnings.filterwarnings('ignore')\n",
    "sys.path.append('../code')\n",
    "\n",
    "from sklearn.metrics import accuracy_score, confusion_matrix\n",
    "import shap\n",
    "import xgboost as xgb\n",
    "\n",
    "# Custom Module\n",
    "from dataset.load import Load_Data\n",
    "from preprocessing.preprocessing import DeriveFeature, Preprocess\n",
    "from modeling.Validation import KFoldValidation\n",
    "from modeling.HyperParameterTuning import RandomForestEvaluation, XGBEvaluation"
   ]
  },
  {
   "cell_type": "markdown",
   "metadata": {},
   "source": [
    "# Load Model & Dataset"
   ]
  },
  {
   "cell_type": "markdown",
   "metadata": {},
   "source": [
    "## Define Path"
   ]
  },
  {
   "cell_type": "code",
   "execution_count": 86,
   "metadata": {
    "ExecuteTime": {
     "end_time": "2020-07-30T14:22:01.275966Z",
     "start_time": "2020-07-30T14:22:01.269606Z"
    }
   },
   "outputs": [],
   "source": [
    "DATA_PATH = '../dataset'\n",
    "MODEL_PATH = '../model'"
   ]
  },
  {
   "cell_type": "markdown",
   "metadata": {},
   "source": [
    "## Data"
   ]
  },
  {
   "cell_type": "code",
   "execution_count": 87,
   "metadata": {
    "ExecuteTime": {
     "end_time": "2020-07-30T14:22:03.212954Z",
     "start_time": "2020-07-30T14:22:01.888810Z"
    }
   },
   "outputs": [
    {
     "name": "stdout",
     "output_type": "stream",
     "text": [
      "Train Dataset Shape:  (19806, 50)\n",
      "Test Dataset Shape:  (6603, 50)\n",
      "Preprocessed Train Dataset Shape: (19693, 58)\n",
      "Preprocessed Test Dataset Shape: (6571, 58)\n",
      "Preprocessed Train Dataset Shape: (19693, 58)\n",
      "Preprocessed Test Dataset Shape: (6571, 58)\n"
     ]
    }
   ],
   "source": [
    "train, test = Load_Data(DATA_PATH, minute = 10, return_test = True, split_size = 0.25)\n",
    "\n",
    "X_train, X_test, y_train, y_test = Preprocess(train, test, scaling = False)\n",
    "col_names = X_train.columns.tolist()\n",
    "\n",
    "X_train, X_test, y_train, y_test = Preprocess(train, test, scaling = True)"
   ]
  },
  {
   "cell_type": "markdown",
   "metadata": {},
   "source": [
    "## Model"
   ]
  },
  {
   "cell_type": "code",
   "execution_count": 88,
   "metadata": {
    "ExecuteTime": {
     "end_time": "2020-07-30T14:22:03.827893Z",
     "start_time": "2020-07-30T14:22:03.818483Z"
    }
   },
   "outputs": [],
   "source": [
    "pre_train_xgb = joblib.load(os.path.join(MODEL_PATH, 'XGB_0.735'))"
   ]
  },
  {
   "cell_type": "markdown",
   "metadata": {},
   "source": [
    "# Prediction"
   ]
  },
  {
   "cell_type": "code",
   "execution_count": 89,
   "metadata": {
    "ExecuteTime": {
     "end_time": "2020-07-30T14:22:05.037623Z",
     "start_time": "2020-07-30T14:22:04.403877Z"
    }
   },
   "outputs": [],
   "source": [
    "ground_truth = y_train\n",
    "prediction = pre_train_xgb.predict(X_test)"
   ]
  },
  {
   "cell_type": "code",
   "execution_count": 90,
   "metadata": {
    "ExecuteTime": {
     "end_time": "2020-07-30T14:22:05.607844Z",
     "start_time": "2020-07-30T14:22:05.597306Z"
    }
   },
   "outputs": [
    {
     "data": {
      "text/plain": [
       "0.7345913863947648"
      ]
     },
     "execution_count": 90,
     "metadata": {},
     "output_type": "execute_result"
    }
   ],
   "source": [
    "accuracy_score(y_test, prediction)"
   ]
  },
  {
   "cell_type": "code",
   "execution_count": 91,
   "metadata": {
    "ExecuteTime": {
     "end_time": "2020-07-30T14:22:06.195162Z",
     "start_time": "2020-07-30T14:22:06.173023Z"
    }
   },
   "outputs": [
    {
     "data": {
      "text/plain": [
       "array([[2416,  871],\n",
       "       [ 873, 2411]], dtype=int64)"
      ]
     },
     "execution_count": 91,
     "metadata": {},
     "output_type": "execute_result"
    }
   ],
   "source": [
    "confusion_matrix(y_test, prediction)"
   ]
  },
  {
   "cell_type": "markdown",
   "metadata": {},
   "source": [
    "# Feature Importance"
   ]
  },
  {
   "cell_type": "code",
   "execution_count": 92,
   "metadata": {
    "ExecuteTime": {
     "end_time": "2020-07-30T14:22:07.057987Z",
     "start_time": "2020-07-30T14:22:06.750402Z"
    }
   },
   "outputs": [
    {
     "data": {
      "image/png": "[encoded data removed]",
      "text/plain": [
       "<Figure size 432x288 with 1 Axes>"
      ]
     },
     "metadata": {
      "needs_background": "light"
     },
     "output_type": "display_data"
    }
   ],
   "source": [
    "xgb.plot_importance(pre_train_xgb, importance_type = 'weight', max_num_features = 5)\n",
    "\n",
    "plt.show()"
   ]
  },
  {
   "cell_type": "markdown",
   "metadata": {},
   "source": [
    "# Visualization"
   ]
  },
  {
   "cell_type": "code",
   "execution_count": 93,
   "metadata": {
    "ExecuteTime": {
     "end_time": "2020-07-30T14:22:07.719117Z",
     "start_time": "2020-07-30T14:22:07.703903Z"
    }
   },
   "outputs": [],
   "source": [
    "class ExplainModel:\n",
    "    def __init__(self, model, col_names):\n",
    "        self.model = model\n",
    "        self.col_names = col_names\n",
    "        \n",
    "    def FeatureImportance(self, importance_type):\n",
    "        model = self.model\n",
    "        model.get_booster().feature_names = self.col_names\n",
    "        xgb.plot_importance(model,importance_type = importance_type, max_num_features = 5)\n",
    "        \n",
    "        plt.title(\"Feature Importance ({})\".format(importance_type))\n",
    "        plt.show()\n",
    "        \n",
    "    def SHAP_Value(self, test_data, unit, observation = 10, method = 'tree'):\n",
    "        model = self.model\n",
    "        \n",
    "        if unit == 'solo':\n",
    "            print(\"Blue Team Win Probability: \", model.predict_proba(test_data)[observation][1])\n",
    "            \n",
    "            explainer = shap.TreeExplainer(model)\n",
    "            shap_values = explainer.shap_values(idx_test)\n",
    "            \n",
    "            shap.initjs()\n",
    "        \n",
    "            return shap.force_plot(explainer.expect_value[1], shap_values[1], idx_test)"
   ]
  },
  {
   "cell_type": "code",
   "execution_count": 94,
   "metadata": {
    "ExecuteTime": {
     "end_time": "2020-07-30T14:22:08.600227Z",
     "start_time": "2020-07-30T14:22:08.270491Z"
    },
    "scrolled": true
   },
   "outputs": [
    {
     "data": {
      "image/png": "[encoded data removed]",
      "text/plain": [
       "<Figure size 432x288 with 1 Axes>"
      ]
     },
     "metadata": {
      "needs_background": "light"
     },
     "output_type": "display_data"
    }
   ],
   "source": [
    "tmp = ExplainModel(model = pre_train_xgb, col_names = col_names)\n",
    "tmp.FeatureImportance(importance_type = 'gain')"
   ]
  },
  {
   "cell_type": "code",
   "execution_count": 95,
   "metadata": {
    "ExecuteTime": {
     "end_time": "2020-07-30T14:22:09.240503Z",
     "start_time": "2020-07-30T14:22:09.185701Z"
    }
   },
   "outputs": [
    {
     "ename": "ValueError",
     "evalue": "feature_names mismatch: ['blueTotalGolds', 'blueCurrentGolds', 'blueTotalLevel', 'blueAvgLevel', 'blueTotalMinionKills', 'blueTotalJungleMinionKills', 'blueFirstBlood', 'blueKill', 'blueDeath', 'blueAssist', 'blueWardPlaced', 'blueWardKills', 'blueFirstTower', 'blueFirstInhibitor', 'blueTowerKills', 'blueMidTowerKills', 'blueTopTowerKills', 'blueBotTowerKills', 'blueInhibitor', 'blueRiftHeralds', 'redTotalGolds', 'redCurrentGolds', 'redTotalLevel', 'redAvgLevel', 'redTotalMinionKills', 'redTotalJungleMinionKills', 'redFirstBlood', 'redKill', 'redDeath', 'redAssist', 'redWardPlaced', 'redWardKills', 'redFirstTower', 'redFirstInhibitor', 'redTowerKills', 'redMidTowerKills', 'redTopTowerKills', 'redBotTowerKills', 'redInhibitor', 'redRiftHeralds', 'blueKd/a', 'redKd/a', \"D_'AIR_DRAGON'_None_\", \"D_'EARTH_DRAGON'_None_\", \"D_'FIRE_DRAGON'_None_\", \"D_'WATER_DRAGON'_None_\", \"D__None_'AIR_DRAGON'\", \"D__None_'EARTH_DRAGON'\", \"D__None_'FIRE_DRAGON'\", \"D__None_'WATER_DRAGON'\", 'D__None__None_', \"T_'BOT_LANE'_None_\", \"T_'MID_LANE'_None_\", \"T_'TOP_LANE'_None_\", \"T__None_'BOT_LANE'\", \"T__None_'MID_LANE'\", \"T__None_'TOP_LANE'\", 'T__None__None_'] ['f0', 'f1', 'f2', 'f3', 'f4', 'f5', 'f6', 'f7', 'f8', 'f9', 'f10', 'f11', 'f12', 'f13', 'f14', 'f15', 'f16', 'f17', 'f18', 'f19', 'f20', 'f21', 'f22', 'f23', 'f24', 'f25', 'f26', 'f27', 'f28', 'f29', 'f30', 'f31', 'f32', 'f33', 'f34', 'f35', 'f36', 'f37', 'f38', 'f39', 'f40', 'f41', 'f42', 'f43', 'f44', 'f45', 'f46', 'f47', 'f48', 'f49', 'f50', 'f51', 'f52', 'f53', 'f54', 'f55', 'f56', 'f57']\nexpected D__None_'WATER_DRAGON', redTotalJungleMinionKills, redBotTowerKills, D__None_'FIRE_DRAGON', T__None_'MID_LANE', blueTotalGolds, D_'EARTH_DRAGON'_None_, redWardKills, D__None_'AIR_DRAGON', redWardPlaced, redAvgLevel, redKill, blueAvgLevel, redMidTowerKills, D_'WATER_DRAGON'_None_, blueRiftHeralds, blueWardPlaced, T_'MID_LANE'_None_, T_'BOT_LANE'_None_, blueKd/a, blueTowerKills, blueDeath, blueTotalMinionKills, redRiftHeralds, D_'FIRE_DRAGON'_None_, blueWardKills, blueTopTowerKills, blueTotalJungleMinionKills, T__None_'BOT_LANE', redKd/a, blueFirstTower, blueCurrentGolds, D__None_'EARTH_DRAGON', redFirstBlood, redAssist, redTowerKills, blueKill, blueTotalLevel, blueFirstBlood, blueBotTowerKills, redTotalGolds, redCurrentGolds, redFirstTower, T_'TOP_LANE'_None_, blueAssist, redTopTowerKills, blueInhibitor, D_'AIR_DRAGON'_None_, redDeath, blueFirstInhibitor, redTotalMinionKills, blueMidTowerKills, redInhibitor, T__None__None_, redFirstInhibitor, redTotalLevel, D__None__None_, T__None_'TOP_LANE' in input data\ntraining data did not have the following fields: f39, f14, f56, f35, f44, f50, f40, f47, f9, f22, f21, f46, f41, f31, f1, f55, f57, f25, f53, f34, f30, f0, f52, f19, f10, f29, f2, f27, f49, f3, f17, f51, f33, f48, f11, f16, f18, f37, f36, f43, f6, f26, f54, f24, f12, f5, f13, f23, f45, f8, f28, f15, f32, f38, f7, f42, f20, f4",
     "output_type": "error",
     "traceback": [
      "\u001b[1;31m---------------------------------------------------------------------------\u001b[0m",
      "\u001b[1;31mValueError\u001b[0m                                Traceback (most recent call last)",
      "\u001b[1;32m<ipython-input-95-4ecc2e940c5a>\u001b[0m in \u001b[0;36m<module>\u001b[1;34m\u001b[0m\n\u001b[1;32m----> 1\u001b[1;33m \u001b[0mtmp\u001b[0m\u001b[1;33m.\u001b[0m\u001b[0mSHAP_Value\u001b[0m\u001b[1;33m(\u001b[0m\u001b[0mX_test\u001b[0m\u001b[1;33m,\u001b[0m \u001b[0munit\u001b[0m \u001b[1;33m=\u001b[0m \u001b[1;34m'solo'\u001b[0m\u001b[1;33m)\u001b[0m\u001b[1;33m\u001b[0m\u001b[1;33m\u001b[0m\u001b[0m\n\u001b[0m",
      "\u001b[1;32m<ipython-input-93-6e950ff97f91>\u001b[0m in \u001b[0;36mSHAP_Value\u001b[1;34m(self, test_data, unit, observation, method)\u001b[0m\n\u001b[0;32m     16\u001b[0m \u001b[1;33m\u001b[0m\u001b[0m\n\u001b[0;32m     17\u001b[0m         \u001b[1;32mif\u001b[0m \u001b[0munit\u001b[0m \u001b[1;33m==\u001b[0m \u001b[1;34m'solo'\u001b[0m\u001b[1;33m:\u001b[0m\u001b[1;33m\u001b[0m\u001b[1;33m\u001b[0m\u001b[0m\n\u001b[1;32m---> 18\u001b[1;33m             \u001b[0mprint\u001b[0m\u001b[1;33m(\u001b[0m\u001b[1;34m\"Blue Team Win Probability: \"\u001b[0m\u001b[1;33m,\u001b[0m \u001b[0mmodel\u001b[0m\u001b[1;33m.\u001b[0m\u001b[0mpredict_proba\u001b[0m\u001b[1;33m(\u001b[0m\u001b[0mtest_data\u001b[0m\u001b[1;33m)\u001b[0m\u001b[1;33m[\u001b[0m\u001b[0mobservation\u001b[0m\u001b[1;33m]\u001b[0m\u001b[1;33m[\u001b[0m\u001b[1;36m1\u001b[0m\u001b[1;33m]\u001b[0m\u001b[1;33m)\u001b[0m\u001b[1;33m\u001b[0m\u001b[1;33m\u001b[0m\u001b[0m\n\u001b[0m\u001b[0;32m     19\u001b[0m \u001b[1;33m\u001b[0m\u001b[0m\n\u001b[0;32m     20\u001b[0m             \u001b[0mexplainer\u001b[0m \u001b[1;33m=\u001b[0m \u001b[0mshap\u001b[0m\u001b[1;33m.\u001b[0m\u001b[0mTreeExplainer\u001b[0m\u001b[1;33m(\u001b[0m\u001b[0mmodel\u001b[0m\u001b[1;33m)\u001b[0m\u001b[1;33m\u001b[0m\u001b[1;33m\u001b[0m\u001b[0m\n",
      "\u001b[1;32m~\\Anaconda3\\lib\\site-packages\\xgboost\\sklearn.py\u001b[0m in \u001b[0;36mpredict_proba\u001b[1;34m(self, data, ntree_limit, validate_features)\u001b[0m\n\u001b[0;32m    832\u001b[0m         class_probs = self.get_booster().predict(test_dmatrix,\n\u001b[0;32m    833\u001b[0m                                                  \u001b[0mntree_limit\u001b[0m\u001b[1;33m=\u001b[0m\u001b[0mntree_limit\u001b[0m\u001b[1;33m,\u001b[0m\u001b[1;33m\u001b[0m\u001b[1;33m\u001b[0m\u001b[0m\n\u001b[1;32m--> 834\u001b[1;33m                                                  validate_features=validate_features)\n\u001b[0m\u001b[0;32m    835\u001b[0m         \u001b[1;32mif\u001b[0m \u001b[0mself\u001b[0m\u001b[1;33m.\u001b[0m\u001b[0mobjective\u001b[0m \u001b[1;33m==\u001b[0m \u001b[1;34m\"multi:softprob\"\u001b[0m\u001b[1;33m:\u001b[0m\u001b[1;33m\u001b[0m\u001b[1;33m\u001b[0m\u001b[0m\n\u001b[0;32m    836\u001b[0m             \u001b[1;32mreturn\u001b[0m \u001b[0mclass_probs\u001b[0m\u001b[1;33m\u001b[0m\u001b[1;33m\u001b[0m\u001b[0m\n",
      "\u001b[1;32m~\\Anaconda3\\lib\\site-packages\\xgboost\\core.py\u001b[0m in \u001b[0;36mpredict\u001b[1;34m(self, data, output_margin, ntree_limit, pred_leaf, pred_contribs, approx_contribs, pred_interactions, validate_features)\u001b[0m\n\u001b[0;32m   1282\u001b[0m \u001b[1;33m\u001b[0m\u001b[0m\n\u001b[0;32m   1283\u001b[0m         \u001b[1;32mif\u001b[0m \u001b[0mvalidate_features\u001b[0m\u001b[1;33m:\u001b[0m\u001b[1;33m\u001b[0m\u001b[1;33m\u001b[0m\u001b[0m\n\u001b[1;32m-> 1284\u001b[1;33m             \u001b[0mself\u001b[0m\u001b[1;33m.\u001b[0m\u001b[0m_validate_features\u001b[0m\u001b[1;33m(\u001b[0m\u001b[0mdata\u001b[0m\u001b[1;33m)\u001b[0m\u001b[1;33m\u001b[0m\u001b[1;33m\u001b[0m\u001b[0m\n\u001b[0m\u001b[0;32m   1285\u001b[0m \u001b[1;33m\u001b[0m\u001b[0m\n\u001b[0;32m   1286\u001b[0m         \u001b[0mlength\u001b[0m \u001b[1;33m=\u001b[0m \u001b[0mc_bst_ulong\u001b[0m\u001b[1;33m(\u001b[0m\u001b[1;33m)\u001b[0m\u001b[1;33m\u001b[0m\u001b[1;33m\u001b[0m\u001b[0m\n",
      "\u001b[1;32m~\\Anaconda3\\lib\\site-packages\\xgboost\\core.py\u001b[0m in \u001b[0;36m_validate_features\u001b[1;34m(self, data)\u001b[0m\n\u001b[0;32m   1688\u001b[0m \u001b[1;33m\u001b[0m\u001b[0m\n\u001b[0;32m   1689\u001b[0m                 raise ValueError(msg.format(self.feature_names,\n\u001b[1;32m-> 1690\u001b[1;33m                                             data.feature_names))\n\u001b[0m\u001b[0;32m   1691\u001b[0m \u001b[1;33m\u001b[0m\u001b[0m\n\u001b[0;32m   1692\u001b[0m     \u001b[1;32mdef\u001b[0m \u001b[0mget_split_value_histogram\u001b[0m\u001b[1;33m(\u001b[0m\u001b[0mself\u001b[0m\u001b[1;33m,\u001b[0m \u001b[0mfeature\u001b[0m\u001b[1;33m,\u001b[0m \u001b[0mfmap\u001b[0m\u001b[1;33m=\u001b[0m\u001b[1;34m''\u001b[0m\u001b[1;33m,\u001b[0m \u001b[0mbins\u001b[0m\u001b[1;33m=\u001b[0m\u001b[1;32mNone\u001b[0m\u001b[1;33m,\u001b[0m \u001b[0mas_pandas\u001b[0m\u001b[1;33m=\u001b[0m\u001b[1;32mTrue\u001b[0m\u001b[1;33m)\u001b[0m\u001b[1;33m:\u001b[0m\u001b[1;33m\u001b[0m\u001b[1;33m\u001b[0m\u001b[0m\n",
      "\u001b[1;31mValueError\u001b[0m: feature_names mismatch: ['blueTotalGolds', 'blueCurrentGolds', 'blueTotalLevel', 'blueAvgLevel', 'blueTotalMinionKills', 'blueTotalJungleMinionKills', 'blueFirstBlood', 'blueKill', 'blueDeath', 'blueAssist', 'blueWardPlaced', 'blueWardKills', 'blueFirstTower', 'blueFirstInhibitor', 'blueTowerKills', 'blueMidTowerKills', 'blueTopTowerKills', 'blueBotTowerKills', 'blueInhibitor', 'blueRiftHeralds', 'redTotalGolds', 'redCurrentGolds', 'redTotalLevel', 'redAvgLevel', 'redTotalMinionKills', 'redTotalJungleMinionKills', 'redFirstBlood', 'redKill', 'redDeath', 'redAssist', 'redWardPlaced', 'redWardKills', 'redFirstTower', 'redFirstInhibitor', 'redTowerKills', 'redMidTowerKills', 'redTopTowerKills', 'redBotTowerKills', 'redInhibitor', 'redRiftHeralds', 'blueKd/a', 'redKd/a', \"D_'AIR_DRAGON'_None_\", \"D_'EARTH_DRAGON'_None_\", \"D_'FIRE_DRAGON'_None_\", \"D_'WATER_DRAGON'_None_\", \"D__None_'AIR_DRAGON'\", \"D__None_'EARTH_DRAGON'\", \"D__None_'FIRE_DRAGON'\", \"D__None_'WATER_DRAGON'\", 'D__None__None_', \"T_'BOT_LANE'_None_\", \"T_'MID_LANE'_None_\", \"T_'TOP_LANE'_None_\", \"T__None_'BOT_LANE'\", \"T__None_'MID_LANE'\", \"T__None_'TOP_LANE'\", 'T__None__None_'] ['f0', 'f1', 'f2', 'f3', 'f4', 'f5', 'f6', 'f7', 'f8', 'f9', 'f10', 'f11', 'f12', 'f13', 'f14', 'f15', 'f16', 'f17', 'f18', 'f19', 'f20', 'f21', 'f22', 'f23', 'f24', 'f25', 'f26', 'f27', 'f28', 'f29', 'f30', 'f31', 'f32', 'f33', 'f34', 'f35', 'f36', 'f37', 'f38', 'f39', 'f40', 'f41', 'f42', 'f43', 'f44', 'f45', 'f46', 'f47', 'f48', 'f49', 'f50', 'f51', 'f52', 'f53', 'f54', 'f55', 'f56', 'f57']\nexpected D__None_'WATER_DRAGON', redTotalJungleMinionKills, redBotTowerKills, D__None_'FIRE_DRAGON', T__None_'MID_LANE', blueTotalGolds, D_'EARTH_DRAGON'_None_, redWardKills, D__None_'AIR_DRAGON', redWardPlaced, redAvgLevel, redKill, blueAvgLevel, redMidTowerKills, D_'WATER_DRAGON'_None_, blueRiftHeralds, blueWardPlaced, T_'MID_LANE'_None_, T_'BOT_LANE'_None_, blueKd/a, blueTowerKills, blueDeath, blueTotalMinionKills, redRiftHeralds, D_'FIRE_DRAGON'_None_, blueWardKills, blueTopTowerKills, blueTotalJungleMinionKills, T__None_'BOT_LANE', redKd/a, blueFirstTower, blueCurrentGolds, D__None_'EARTH_DRAGON', redFirstBlood, redAssist, redTowerKills, blueKill, blueTotalLevel, blueFirstBlood, blueBotTowerKills, redTotalGolds, redCurrentGolds, redFirstTower, T_'TOP_LANE'_None_, blueAssist, redTopTowerKills, blueInhibitor, D_'AIR_DRAGON'_None_, redDeath, blueFirstInhibitor, redTotalMinionKills, blueMidTowerKills, redInhibitor, T__None__None_, redFirstInhibitor, redTotalLevel, D__None__None_, T__None_'TOP_LANE' in input data\ntraining data did not have the following fields: f39, f14, f56, f35, f44, f50, f40, f47, f9, f22, f21, f46, f41, f31, f1, f55, f57, f25, f53, f34, f30, f0, f52, f19, f10, f29, f2, f27, f49, f3, f17, f51, f33, f48, f11, f16, f18, f37, f36, f43, f6, f26, f54, f24, f12, f5, f13, f23, f45, f8, f28, f15, f32, f38, f7, f42, f20, f4"
     ]
    }
   ],
   "source": [
    "tmp.SHAP_Value(X_test, unit = 'solo')"
   ]
  },
  {
   "cell_type": "code",
   "execution_count": null,
   "metadata": {},
   "outputs": [],
   "source": []
  }
 ],
 "metadata": {
  "kernelspec": {
   "display_name": "Python 3",
   "language": "python",
   "name": "python3"
  },
  "language_info": {
   "codemirror_mode": {
    "name": "ipython",
    "version": 3
   },
   "file_extension": ".py",
   "mimetype": "text/x-python",
   "name": "python",
   "nbconvert_exporter": "python",
   "pygments_lexer": "ipython3",
   "version": "3.7.7"
  },
  "toc": {
   "base_numbering": 1,
   "nav_menu": {},
   "number_sections": true,
   "sideBar": true,
   "skip_h1_title": false,
   "title_cell": "Table of Contents",
   "title_sidebar": "Contents",
   "toc_cell": false,
   "toc_position": {},
   "toc_section_display": true,
   "toc_window_display": false
  },
  "varInspector": {
   "cols": {
    "lenName": 16,
    "lenType": 16,
    "lenVar": 40
   },
   "kernels_config": {
    "python": {
     "delete_cmd_postfix": "",
     "delete_cmd_prefix": "del ",
     "library": "var_list.py",
     "varRefreshCmd": "print(var_dic_list())"
    },
    "r": {
     "delete_cmd_postfix": ") ",
     "delete_cmd_prefix": "rm(",
     "library": "var_list.r",
     "varRefreshCmd": "cat(var_dic_list()) "
    }
   },
   "types_to_exclude": [
    "module",
    "function",
    "builtin_function_or_method",
    "instance",
    "_Feature"
   ],
   "window_display": false
  }
 },
 "nbformat": 4,
 "nbformat_minor": 4
}
