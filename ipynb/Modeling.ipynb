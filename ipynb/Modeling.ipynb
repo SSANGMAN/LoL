{
 "cells": [
  {
   "cell_type": "markdown",
   "metadata": {},
   "source": [
    "# Import Module"
   ]
  },
  {
   "cell_type": "code",
   "execution_count": 13,
   "metadata": {
    "ExecuteTime": {
     "end_time": "2020-08-10T09:01:37.781098Z",
     "start_time": "2020-08-10T09:01:37.756109Z"
    }
   },
   "outputs": [
    {
     "name": "stdout",
     "output_type": "stream",
     "text": [
      "['Preprocess_test.csv', 'Preprocess_train.csv', 'test.csv', 'train.csv']\n"
     ]
    }
   ],
   "source": [
    "import pandas as pd\n",
    "import numpy as np\n",
    "\n",
    "import matplotlib.pyplot as plt\n",
    "import seaborn as sns\n",
    "\n",
    "from sklearn.linear_model import LogisticRegression\n",
    "from sklearn.tree import DecisionTreeClassifier\n",
    "from sklearn.ensemble import RandomForestClassifier\n",
    "import xgboost as xgb\n",
    "from xgboost import XGBClassifier\n",
    "\n",
    "from sklearn.preprocessing import StandardScaler\n",
    "from sklearn.metrics import accuracy_score, confusion_matrix\n",
    "from sklearn.model_selection import KFold\n",
    "\n",
    "import os\n",
    "import warnings\n",
    "warnings.filterwarnings('ignore')\n",
    "print(os.listdir('../dataset/preprocessing'))"
   ]
  },
  {
   "cell_type": "markdown",
   "metadata": {},
   "source": [
    "# Load Dataset"
   ]
  },
  {
   "cell_type": "code",
   "execution_count": 2,
   "metadata": {
    "ExecuteTime": {
     "end_time": "2020-08-10T08:59:33.617667Z",
     "start_time": "2020-08-10T08:59:33.605668Z"
    }
   },
   "outputs": [],
   "source": [
    "IMPORT_PATH = '../dataset/preprocessing/'"
   ]
  },
  {
   "cell_type": "code",
   "execution_count": 18,
   "metadata": {
    "ExecuteTime": {
     "end_time": "2020-08-10T09:03:24.050492Z",
     "start_time": "2020-08-10T09:03:23.576485Z"
    }
   },
   "outputs": [],
   "source": [
    "train = pd.read_csv(IMPORT_PATH + 'Preprocess_train.csv')\n",
    "test = pd.read_csv(IMPORT_PATH + 'Preprocess_test.csv')"
   ]
  },
  {
   "cell_type": "markdown",
   "metadata": {},
   "source": [
    "# Check Dataset"
   ]
  },
  {
   "cell_type": "code",
   "execution_count": 19,
   "metadata": {
    "ExecuteTime": {
     "end_time": "2020-08-10T09:03:24.470510Z",
     "start_time": "2020-08-10T09:03:24.395487Z"
    },
    "scrolled": true
   },
   "outputs": [
    {
     "name": "stdout",
     "output_type": "stream",
     "text": [
      "Train Dataset Shape:  (19693, 60)\n"
     ]
    },
    {
     "data": {
      "text/html": [
       "<div>\n",
       "<style scoped>\n",
       "    .dataframe tbody tr th:only-of-type {\n",
       "        vertical-align: middle;\n",
       "    }\n",
       "\n",
       "    .dataframe tbody tr th {\n",
       "        vertical-align: top;\n",
       "    }\n",
       "\n",
       "    .dataframe thead th {\n",
       "        text-align: right;\n",
       "    }\n",
       "</style>\n",
       "<table border=\"1\" class=\"dataframe\">\n",
       "  <thead>\n",
       "    <tr style=\"text-align: right;\">\n",
       "      <th></th>\n",
       "      <th>gameId</th>\n",
       "      <th>blueTotalGolds</th>\n",
       "      <th>blueCurrentGolds</th>\n",
       "      <th>blueTotalLevel</th>\n",
       "      <th>blueAvgLevel</th>\n",
       "      <th>blueTotalMinionKills</th>\n",
       "      <th>blueTotalJungleMinionKills</th>\n",
       "      <th>blueFirstBlood</th>\n",
       "      <th>blueKill</th>\n",
       "      <th>blueDeath</th>\n",
       "      <th>...</th>\n",
       "      <th>D__None_'FIRE_DRAGON'</th>\n",
       "      <th>D__None_'WATER_DRAGON'</th>\n",
       "      <th>D__None__None_</th>\n",
       "      <th>T_'BOT_LANE'_None_</th>\n",
       "      <th>T_'MID_LANE'_None_</th>\n",
       "      <th>T_'TOP_LANE'_None_</th>\n",
       "      <th>T__None_'BOT_LANE'</th>\n",
       "      <th>T__None_'MID_LANE'</th>\n",
       "      <th>T__None_'TOP_LANE'</th>\n",
       "      <th>T__None__None_</th>\n",
       "    </tr>\n",
       "  </thead>\n",
       "  <tbody>\n",
       "    <tr>\n",
       "      <th>0</th>\n",
       "      <td>4204710612</td>\n",
       "      <td>19975</td>\n",
       "      <td>3374</td>\n",
       "      <td>35</td>\n",
       "      <td>7.0</td>\n",
       "      <td>216</td>\n",
       "      <td>38</td>\n",
       "      <td>0</td>\n",
       "      <td>13</td>\n",
       "      <td>6</td>\n",
       "      <td>...</td>\n",
       "      <td>0.0</td>\n",
       "      <td>0.0</td>\n",
       "      <td>0.0</td>\n",
       "      <td>1.0</td>\n",
       "      <td>0.0</td>\n",
       "      <td>0.0</td>\n",
       "      <td>0.0</td>\n",
       "      <td>0.0</td>\n",
       "      <td>0.0</td>\n",
       "      <td>0.0</td>\n",
       "    </tr>\n",
       "    <tr>\n",
       "      <th>1</th>\n",
       "      <td>4153551749</td>\n",
       "      <td>15892</td>\n",
       "      <td>4012</td>\n",
       "      <td>36</td>\n",
       "      <td>7.2</td>\n",
       "      <td>215</td>\n",
       "      <td>57</td>\n",
       "      <td>0</td>\n",
       "      <td>5</td>\n",
       "      <td>4</td>\n",
       "      <td>...</td>\n",
       "      <td>1.0</td>\n",
       "      <td>0.0</td>\n",
       "      <td>0.0</td>\n",
       "      <td>0.0</td>\n",
       "      <td>0.0</td>\n",
       "      <td>0.0</td>\n",
       "      <td>0.0</td>\n",
       "      <td>0.0</td>\n",
       "      <td>0.0</td>\n",
       "      <td>1.0</td>\n",
       "    </tr>\n",
       "    <tr>\n",
       "      <th>2</th>\n",
       "      <td>4139787761</td>\n",
       "      <td>16270</td>\n",
       "      <td>2485</td>\n",
       "      <td>35</td>\n",
       "      <td>7.0</td>\n",
       "      <td>227</td>\n",
       "      <td>56</td>\n",
       "      <td>0</td>\n",
       "      <td>5</td>\n",
       "      <td>6</td>\n",
       "      <td>...</td>\n",
       "      <td>0.0</td>\n",
       "      <td>0.0</td>\n",
       "      <td>0.0</td>\n",
       "      <td>0.0</td>\n",
       "      <td>0.0</td>\n",
       "      <td>0.0</td>\n",
       "      <td>0.0</td>\n",
       "      <td>0.0</td>\n",
       "      <td>0.0</td>\n",
       "      <td>1.0</td>\n",
       "    </tr>\n",
       "    <tr>\n",
       "      <th>3</th>\n",
       "      <td>4202227127</td>\n",
       "      <td>16605</td>\n",
       "      <td>3290</td>\n",
       "      <td>34</td>\n",
       "      <td>6.8</td>\n",
       "      <td>194</td>\n",
       "      <td>28</td>\n",
       "      <td>0</td>\n",
       "      <td>8</td>\n",
       "      <td>10</td>\n",
       "      <td>...</td>\n",
       "      <td>0.0</td>\n",
       "      <td>0.0</td>\n",
       "      <td>1.0</td>\n",
       "      <td>0.0</td>\n",
       "      <td>0.0</td>\n",
       "      <td>0.0</td>\n",
       "      <td>0.0</td>\n",
       "      <td>0.0</td>\n",
       "      <td>1.0</td>\n",
       "      <td>0.0</td>\n",
       "    </tr>\n",
       "    <tr>\n",
       "      <th>4</th>\n",
       "      <td>4189344068</td>\n",
       "      <td>14980</td>\n",
       "      <td>665</td>\n",
       "      <td>33</td>\n",
       "      <td>6.6</td>\n",
       "      <td>199</td>\n",
       "      <td>56</td>\n",
       "      <td>0</td>\n",
       "      <td>4</td>\n",
       "      <td>13</td>\n",
       "      <td>...</td>\n",
       "      <td>0.0</td>\n",
       "      <td>1.0</td>\n",
       "      <td>0.0</td>\n",
       "      <td>0.0</td>\n",
       "      <td>0.0</td>\n",
       "      <td>0.0</td>\n",
       "      <td>0.0</td>\n",
       "      <td>0.0</td>\n",
       "      <td>0.0</td>\n",
       "      <td>1.0</td>\n",
       "    </tr>\n",
       "  </tbody>\n",
       "</table>\n",
       "<p>5 rows × 60 columns</p>\n",
       "</div>"
      ],
      "text/plain": [
       "       gameId  blueTotalGolds  blueCurrentGolds  blueTotalLevel  blueAvgLevel  \\\n",
       "0  4204710612           19975              3374              35           7.0   \n",
       "1  4153551749           15892              4012              36           7.2   \n",
       "2  4139787761           16270              2485              35           7.0   \n",
       "3  4202227127           16605              3290              34           6.8   \n",
       "4  4189344068           14980               665              33           6.6   \n",
       "\n",
       "   blueTotalMinionKills  blueTotalJungleMinionKills  blueFirstBlood  blueKill  \\\n",
       "0                   216                          38               0        13   \n",
       "1                   215                          57               0         5   \n",
       "2                   227                          56               0         5   \n",
       "3                   194                          28               0         8   \n",
       "4                   199                          56               0         4   \n",
       "\n",
       "   blueDeath  ...  D__None_'FIRE_DRAGON'  D__None_'WATER_DRAGON'  \\\n",
       "0          6  ...                    0.0                     0.0   \n",
       "1          4  ...                    1.0                     0.0   \n",
       "2          6  ...                    0.0                     0.0   \n",
       "3         10  ...                    0.0                     0.0   \n",
       "4         13  ...                    0.0                     1.0   \n",
       "\n",
       "   D__None__None_  T_'BOT_LANE'_None_  T_'MID_LANE'_None_  T_'TOP_LANE'_None_  \\\n",
       "0             0.0                 1.0                 0.0                 0.0   \n",
       "1             0.0                 0.0                 0.0                 0.0   \n",
       "2             0.0                 0.0                 0.0                 0.0   \n",
       "3             1.0                 0.0                 0.0                 0.0   \n",
       "4             0.0                 0.0                 0.0                 0.0   \n",
       "\n",
       "   T__None_'BOT_LANE'  T__None_'MID_LANE'  T__None_'TOP_LANE'  T__None__None_  \n",
       "0                 0.0                 0.0                 0.0             0.0  \n",
       "1                 0.0                 0.0                 0.0             1.0  \n",
       "2                 0.0                 0.0                 0.0             1.0  \n",
       "3                 0.0                 0.0                 1.0             0.0  \n",
       "4                 0.0                 0.0                 0.0             1.0  \n",
       "\n",
       "[5 rows x 60 columns]"
      ]
     },
     "execution_count": 19,
     "metadata": {},
     "output_type": "execute_result"
    }
   ],
   "source": [
    "print('Train Dataset Shape: ', train.shape)\n",
    "train.head()"
   ]
  },
  {
   "cell_type": "markdown",
   "metadata": {},
   "source": [
    "# Split Lable & Scaling"
   ]
  },
  {
   "cell_type": "code",
   "execution_count": 20,
   "metadata": {
    "ExecuteTime": {
     "end_time": "2020-08-10T09:03:26.136577Z",
     "start_time": "2020-08-10T09:03:25.961568Z"
    }
   },
   "outputs": [],
   "source": [
    "train = train.set_index('gameId')\n",
    "test = test.set_index('gameId')\n",
    "\n",
    "X_train = train.drop(columns = 'blueWins')\n",
    "y_train = train['blueWins']\n",
    "\n",
    "X_test = test.drop(columns = 'blueWins')\n",
    "y_test = test['blueWins']\n",
    "\n",
    "col_names = X_train.columns.tolist()\n",
    "\n",
    "scaler = StandardScaler()\n",
    "X_train = scaler.fit_transform(X_train)\n",
    "X_test = scaler.fit_transform(X_test)"
   ]
  },
  {
   "cell_type": "markdown",
   "metadata": {},
   "source": [
    "# Modeling"
   ]
  },
  {
   "cell_type": "markdown",
   "metadata": {},
   "source": [
    "## Logistic Regression"
   ]
  },
  {
   "cell_type": "code",
   "execution_count": 6,
   "metadata": {
    "ExecuteTime": {
     "end_time": "2020-08-10T08:59:39.625754Z",
     "start_time": "2020-08-10T08:59:39.360790Z"
    }
   },
   "outputs": [
    {
     "name": "stdout",
     "output_type": "stream",
     "text": [
      "Basic Rogistic Regression Accuracy Score:  0.7402221884035916\n"
     ]
    },
    {
     "data": {
      "text/plain": [
       "array([[2458,  878],\n",
       "       [ 829, 2406]], dtype=int64)"
      ]
     },
     "execution_count": 6,
     "metadata": {},
     "output_type": "execute_result"
    }
   ],
   "source": [
    "lr = LogisticRegression(random_state = 42)\n",
    "lr.fit(X_train, y_train)\n",
    "\n",
    "lr_pred = lr.predict(X_test)\n",
    "print(\"Basic Rogistic Regression Accuracy Score: \",accuracy_score(lr_pred, y_test))\n",
    "confusion_matrix(lr_pred, y_test)"
   ]
  },
  {
   "cell_type": "markdown",
   "metadata": {},
   "source": [
    "## Decision Tree"
   ]
  },
  {
   "cell_type": "code",
   "execution_count": 7,
   "metadata": {
    "ExecuteTime": {
     "end_time": "2020-08-10T08:59:40.033158Z",
     "start_time": "2020-08-10T08:59:39.784753Z"
    }
   },
   "outputs": [
    {
     "name": "stdout",
     "output_type": "stream",
     "text": [
      "Basic Decision Tree Accuracy Score:  0.7166336935017501\n"
     ]
    },
    {
     "data": {
      "text/plain": [
       "array([[2319,  894],\n",
       "       [ 968, 2390]], dtype=int64)"
      ]
     },
     "execution_count": 7,
     "metadata": {},
     "output_type": "execute_result"
    }
   ],
   "source": [
    "dt = DecisionTreeClassifier(max_depth = 6, random_state = 42)\n",
    "dt.fit(X_train, y_train)\n",
    "\n",
    "dt_pred = dt.predict(X_test)\n",
    "print(\"Basic Decision Tree Accuracy Score: \", accuracy_score(dt_pred, y_test))\n",
    "confusion_matrix(dt_pred, y_test)"
   ]
  },
  {
   "cell_type": "markdown",
   "metadata": {},
   "source": [
    "## RandomForest"
   ]
  },
  {
   "cell_type": "code",
   "execution_count": 8,
   "metadata": {
    "ExecuteTime": {
     "end_time": "2020-08-10T08:59:42.840107Z",
     "start_time": "2020-08-10T08:59:40.240663Z"
    }
   },
   "outputs": [
    {
     "name": "stdout",
     "output_type": "stream",
     "text": [
      "Basic RandomForest Accuracy Score 0.7326129964997717\n"
     ]
    },
    {
     "data": {
      "text/plain": [
       "array([[2391,  861],\n",
       "       [ 896, 2423]], dtype=int64)"
      ]
     },
     "execution_count": 8,
     "metadata": {},
     "output_type": "execute_result"
    }
   ],
   "source": [
    "rf = RandomForestClassifier(max_depth = 7, random_state = 42)\n",
    "rf.fit(X_train, y_train)\n",
    "\n",
    "rf_pred = rf.predict(X_test)\n",
    "print(\"Basic RandomForest Accuracy Score\", accuracy_score(rf_pred, y_test))\n",
    "confusion_matrix(rf_pred, y_test)"
   ]
  },
  {
   "cell_type": "markdown",
   "metadata": {},
   "source": [
    "## XGBoost"
   ]
  },
  {
   "cell_type": "code",
   "execution_count": 21,
   "metadata": {
    "ExecuteTime": {
     "end_time": "2020-08-10T09:03:47.508615Z",
     "start_time": "2020-08-10T09:03:31.142138Z"
    }
   },
   "outputs": [
    {
     "name": "stdout",
     "output_type": "stream",
     "text": [
      "Basic XGBoost Classfier Accuracy Score:  0.7341348348805357\n"
     ]
    },
    {
     "data": {
      "text/plain": [
       "array([[2420,  880],\n",
       "       [ 867, 2404]], dtype=int64)"
      ]
     },
     "execution_count": 21,
     "metadata": {},
     "output_type": "execute_result"
    }
   ],
   "source": [
    "xgb_clf = XGBClassifier(max_depth = 6, random_state = 42)\n",
    "xgb_clf.fit(X_train, y_train)\n",
    "\n",
    "xgb_pred = xgb_clf.predict(X_test)\n",
    "print(\"Basic XGBoost Classfier Accuracy Score: \", accuracy_score(xgb_pred, y_test))\n",
    "confusion_matrix(xgb_pred, y_test)"
   ]
  },
  {
   "cell_type": "code",
   "execution_count": 22,
   "metadata": {
    "ExecuteTime": {
     "end_time": "2020-08-10T09:03:48.346793Z",
     "start_time": "2020-08-10T09:03:47.809190Z"
    }
   },
   "outputs": [
    {
     "data": {
      "text/plain": [
       "<matplotlib.axes._subplots.AxesSubplot at 0x1f2a65ae3c8>"
      ]
     },
     "execution_count": 22,
     "metadata": {},
     "output_type": "execute_result"
    },
    {
     "data": {
      "image/png": "[encoded data removed]",
      "text/plain": [
       "<Figure size 432x288 with 1 Axes>"
      ]
     },
     "metadata": {
      "needs_background": "light"
     },
     "output_type": "display_data"
    }
   ],
   "source": [
    "xgb_clf.get_booster().feature_names = col_names\n",
    "xgb.plot_importance(xgb_clf, importance_type = 'gain', max_num_features = 5)"
   ]
  },
  {
   "cell_type": "code",
   "execution_count": 10,
   "metadata": {
    "ExecuteTime": {
     "end_time": "2020-08-10T08:59:53.628463Z",
     "start_time": "2020-08-10T08:59:53.270894Z"
    }
   },
   "outputs": [
    {
     "data": {
      "image/png": "[encoded data removed]",
      "text/plain": [
       "<Figure size 504x360 with 1 Axes>"
      ]
     },
     "metadata": {
      "needs_background": "light"
     },
     "output_type": "display_data"
    }
   ],
   "source": [
    "score = [accuracy_score(lr_pred, y_test),  accuracy_score(dt_pred, y_test), \n",
    "         accuracy_score(rf_pred, y_test), accuracy_score(xgb_pred, y_test)]\n",
    "algorithm = ['Logistic Regression', 'Deicsion Tree', 'Random Forest', 'XGBoost']\n",
    "\n",
    "pred_df = pd.DataFrame()\n",
    "pred_df['Score'] = score\n",
    "pred_df['Algorithm'] = algorithm\n",
    "pred_df = pred_df.sort_values('Score')\n",
    "\n",
    "plt.figure(figsize = (7, 5))\n",
    "ax = sns.barplot(y = 'Score', x = 'Algorithm', data = pred_df, orient = 'v')\n",
    "\n",
    "for p in ax.patches:\n",
    "    height = p.get_height()\n",
    "    ax.text(p.get_x() + p.get_width()/2.,\n",
    "            height,\n",
    "            '{:1.4f}'.format(height),\n",
    "            ha = 'center')\n",
    "\n",
    "plt.title(\"Baseline Model Accuracy Score\")\n",
    "plt.xticks(rotation = 30)\n",
    "plt.ylabel(\"Accuracy\")\n",
    "plt.show()"
   ]
  },
  {
   "cell_type": "markdown",
   "metadata": {},
   "source": [
    "# k-Fold\n",
    "\n",
    "Purpose of K-Fold Cross Validation\n",
    "1. Model overfit check\n",
    "\n",
    "\n",
    "2. Validate distribution differences between training data and test data "
   ]
  },
  {
   "cell_type": "code",
   "execution_count": 146,
   "metadata": {
    "ExecuteTime": {
     "end_time": "2020-07-16T06:47:37.879658Z",
     "start_time": "2020-07-16T06:47:37.861433Z"
    }
   },
   "outputs": [],
   "source": [
    "def KFold_Modeling(X, y, algorithm, k):\n",
    "    kf = KFold(n_splits = k, random_state = 42)\n",
    "    accuracy = []\n",
    "    step = 1\n",
    "    \n",
    "    for tr_idx, val_idx in kf.split(X, y):\n",
    "        print(\"*\" * 30, \"New Fold\", \"*\" * 30)\n",
    "        X_tr, X_val = X[tr_idx], X[val_idx]\n",
    "        y_tr, y_val = y.iloc[tr_idx], y.iloc[val_idx]\n",
    "        \n",
    "        if algorithm == 'LogisticRegression':\n",
    "            clf = LogisticRegression(random_state = 42) \n",
    "        elif algorithm == 'DecisionTree':\n",
    "            # max_depth = 7: Manual Search\n",
    "            clf = DecisionTreeClassifier(max_depth = 7,random_state = 42)\n",
    "        elif algorithm == 'XGB':\n",
    "            clf = XGBClassifier(max_depth = 6, random_state = 42)\n",
    "        elif algorithm == 'RandomForest':\n",
    "            clf = RandomForestClassifier(max_depth = 7, random_state = 42)\n",
    "            \n",
    "        if algorithm == 'XGB':\n",
    "            clf.fit(X_tr, y_tr, eval_set = [(X_tr, y_tr), (X_val, y_val)],\n",
    "                   early_stopping_rounds = 50, verbose = 10)\n",
    "        else:\n",
    "            clf.fit(X_tr, y_tr)\n",
    "            \n",
    "        pred = clf.predict(X_val)\n",
    "        print(\"\\n{}-Fold {} Accuracy Score: {}\".format(step, algorithm, accuracy_score(pred, y_val)))\n",
    "        \n",
    "        accuracy.append(accuracy_score(pred, y_val))\n",
    "        del X_tr, y_tr, X_val, y_val, clf\n",
    "    \n",
    "        step += 1\n",
    "        if step == k:\n",
    "            print(\"*\" * 20, \"End Validation\", \"*\" * 20)\n",
    "            \n",
    "    print(\"\\nMean Accuracy Score:, \", sum(accuracy) / k)"
   ]
  },
  {
   "cell_type": "code",
   "execution_count": 147,
   "metadata": {
    "ExecuteTime": {
     "end_time": "2020-07-16T06:47:38.788854Z",
     "start_time": "2020-07-16T06:47:37.936499Z"
    }
   },
   "outputs": [
    {
     "name": "stdout",
     "output_type": "stream",
     "text": [
      "****************************** New Fold ******************************\n",
      "\n",
      "1-Fold LogisticRegression Accuracy Score: 0.7423203858847424\n",
      "****************************** New Fold ******************************\n",
      "\n",
      "2-Fold LogisticRegression Accuracy Score: 0.7476516882457477\n",
      "****************************** New Fold ******************************\n",
      "\n",
      "3-Fold LogisticRegression Accuracy Score: 0.7331810104087332\n",
      "****************************** New Fold ******************************\n",
      "\n",
      "4-Fold LogisticRegression Accuracy Score: 0.7463179278821737\n",
      "******************** End Validation ********************\n",
      "****************************** New Fold ******************************\n",
      "\n",
      "5-Fold LogisticRegression Accuracy Score: 0.7427628237684104\n",
      "\n",
      "Mean Accuracy Score:,  0.7424467672379614\n"
     ]
    }
   ],
   "source": [
    "KFold_Modeling(X_train, y_train, algorithm = 'LogisticRegression', k = 5)"
   ]
  },
  {
   "cell_type": "code",
   "execution_count": 148,
   "metadata": {
    "ExecuteTime": {
     "end_time": "2020-07-16T06:47:39.845302Z",
     "start_time": "2020-07-16T06:47:38.904194Z"
    }
   },
   "outputs": [
    {
     "name": "stdout",
     "output_type": "stream",
     "text": [
      "****************************** New Fold ******************************\n",
      "\n",
      "1-Fold DecisionTree Accuracy Score: 0.722010662604722\n",
      "****************************** New Fold ******************************\n",
      "\n",
      "2-Fold DecisionTree Accuracy Score: 0.7293729372937293\n",
      "****************************** New Fold ******************************\n",
      "\n",
      "3-Fold DecisionTree Accuracy Score: 0.7062706270627063\n",
      "****************************** New Fold ******************************\n",
      "\n",
      "4-Fold DecisionTree Accuracy Score: 0.7282884713052311\n",
      "******************** End Validation ********************\n",
      "****************************** New Fold ******************************\n",
      "\n",
      "5-Fold DecisionTree Accuracy Score: 0.7133062468257999\n",
      "\n",
      "Mean Accuracy Score:,  0.7198497890184378\n"
     ]
    }
   ],
   "source": [
    "KFold_Modeling(X_train, y_train, algorithm = 'DecisionTree', k = 5)"
   ]
  },
  {
   "cell_type": "code",
   "execution_count": 149,
   "metadata": {
    "ExecuteTime": {
     "end_time": "2020-07-16T06:47:47.007162Z",
     "start_time": "2020-07-16T06:47:39.913346Z"
    }
   },
   "outputs": [
    {
     "name": "stdout",
     "output_type": "stream",
     "text": [
      "****************************** New Fold ******************************\n",
      "\n",
      "1-Fold RandomForest Accuracy Score: 0.7311500380807312\n",
      "****************************** New Fold ******************************\n",
      "\n",
      "2-Fold RandomForest Accuracy Score: 0.7397816704747397\n",
      "****************************** New Fold ******************************\n",
      "\n",
      "3-Fold RandomForest Accuracy Score: 0.7171871033257172\n",
      "****************************** New Fold ******************************\n",
      "\n",
      "4-Fold RandomForest Accuracy Score: 0.7356526155408837\n",
      "******************** End Validation ********************\n",
      "****************************** New Fold ******************************\n",
      "\n",
      "5-Fold RandomForest Accuracy Score: 0.7425088877602845\n",
      "\n",
      "Mean Accuracy Score:,  0.7332560630364713\n"
     ]
    }
   ],
   "source": [
    "KFold_Modeling(X_train, y_train, algorithm = 'RandomForest', k = 5)"
   ]
  },
  {
   "cell_type": "code",
   "execution_count": 150,
   "metadata": {
    "ExecuteTime": {
     "end_time": "2020-07-16T06:48:17.579239Z",
     "start_time": "2020-07-16T06:47:47.070113Z"
    },
    "scrolled": false
   },
   "outputs": [
    {
     "name": "stdout",
     "output_type": "stream",
     "text": [
      "****************************** New Fold ******************************\n",
      "[0]\tvalidation_0-error:0.252444\tvalidation_1-error:0.283321\n",
      "Multiple eval metrics have been passed: 'validation_1-error' will be used for early stopping.\n",
      "\n",
      "Will train until validation_1-error hasn't improved in 50 rounds.\n",
      "[10]\tvalidation_0-error:0.235305\tvalidation_1-error:0.270119\n",
      "[20]\tvalidation_0-error:0.226355\tvalidation_1-error:0.259457\n",
      "[30]\tvalidation_0-error:0.221721\tvalidation_1-error:0.258441\n",
      "[40]\tvalidation_0-error:0.217532\tvalidation_1-error:0.258187\n",
      "[50]\tvalidation_0-error:0.212581\tvalidation_1-error:0.259457\n",
      "[60]\tvalidation_0-error:0.209534\tvalidation_1-error:0.260472\n",
      "[70]\tvalidation_0-error:0.20471\tvalidation_1-error:0.260218\n",
      "[80]\tvalidation_0-error:0.199568\tvalidation_1-error:0.262249\n",
      "Stopping. Best iteration:\n",
      "[32]\tvalidation_0-error:0.22096\tvalidation_1-error:0.256156\n",
      "\n",
      "\n",
      "1-Fold XGB Accuracy Score: 0.7438436151307438\n",
      "****************************** New Fold ******************************\n",
      "[0]\tvalidation_0-error:0.254856\tvalidation_1-error:0.268596\n",
      "Multiple eval metrics have been passed: 'validation_1-error' will be used for early stopping.\n",
      "\n",
      "Will train until validation_1-error hasn't improved in 50 rounds.\n",
      "[10]\tvalidation_0-error:0.232258\tvalidation_1-error:0.268088\n",
      "[20]\tvalidation_0-error:0.222039\tvalidation_1-error:0.263265\n",
      "[30]\tvalidation_0-error:0.218675\tvalidation_1-error:0.261488\n",
      "[40]\tvalidation_0-error:0.214231\tvalidation_1-error:0.259711\n",
      "[50]\tvalidation_0-error:0.208709\tvalidation_1-error:0.256156\n",
      "[60]\tvalidation_0-error:0.205154\tvalidation_1-error:0.25311\n",
      "[70]\tvalidation_0-error:0.201409\tvalidation_1-error:0.255649\n",
      "[80]\tvalidation_0-error:0.198807\tvalidation_1-error:0.255141\n",
      "[90]\tvalidation_0-error:0.195506\tvalidation_1-error:0.254633\n",
      "[99]\tvalidation_0-error:0.19284\tvalidation_1-error:0.252602\n",
      "\n",
      "2-Fold XGB Accuracy Score: 0.7473978167047474\n",
      "****************************** New Fold ******************************\n",
      "[0]\tvalidation_0-error:0.251555\tvalidation_1-error:0.283067\n",
      "Multiple eval metrics have been passed: 'validation_1-error' will be used for early stopping.\n",
      "\n",
      "Will train until validation_1-error hasn't improved in 50 rounds.\n",
      "[10]\tvalidation_0-error:0.230545\tvalidation_1-error:0.27672\n",
      "[20]\tvalidation_0-error:0.221404\tvalidation_1-error:0.272912\n",
      "[30]\tvalidation_0-error:0.216516\tvalidation_1-error:0.273927\n",
      "[40]\tvalidation_0-error:0.21239\tvalidation_1-error:0.272404\n",
      "[50]\tvalidation_0-error:0.208582\tvalidation_1-error:0.27342\n",
      "[60]\tvalidation_0-error:0.205154\tvalidation_1-error:0.272404\n",
      "[70]\tvalidation_0-error:0.200203\tvalidation_1-error:0.270373\n",
      "[80]\tvalidation_0-error:0.196902\tvalidation_1-error:0.271389\n",
      "[90]\tvalidation_0-error:0.192776\tvalidation_1-error:0.273166\n",
      "[99]\tvalidation_0-error:0.189793\tvalidation_1-error:0.270373\n",
      "\n",
      "3-Fold XGB Accuracy Score: 0.7298806803757298\n",
      "****************************** New Fold ******************************\n",
      "[0]\tvalidation_0-error:0.254649\tvalidation_1-error:0.268664\n",
      "Multiple eval metrics have been passed: 'validation_1-error' will be used for early stopping.\n",
      "\n",
      "Will train until validation_1-error hasn't improved in 50 rounds.\n",
      "[10]\tvalidation_0-error:0.233513\tvalidation_1-error:0.264093\n",
      "[20]\tvalidation_0-error:0.224564\tvalidation_1-error:0.257491\n",
      "[30]\tvalidation_0-error:0.219169\tvalidation_1-error:0.25292\n",
      "[40]\tvalidation_0-error:0.215297\tvalidation_1-error:0.253682\n",
      "[50]\tvalidation_0-error:0.212885\tvalidation_1-error:0.251905\n",
      "[60]\tvalidation_0-error:0.207997\tvalidation_1-error:0.250889\n",
      "[70]\tvalidation_0-error:0.204316\tvalidation_1-error:0.251651\n",
      "[80]\tvalidation_0-error:0.200381\tvalidation_1-error:0.253174\n",
      "[90]\tvalidation_0-error:0.195176\tvalidation_1-error:0.251397\n",
      "[99]\tvalidation_0-error:0.192828\tvalidation_1-error:0.251905\n",
      "\n",
      "4-Fold XGB Accuracy Score: 0.7503809040121889\n",
      "******************** End Validation ********************\n",
      "****************************** New Fold ******************************\n",
      "[0]\tvalidation_0-error:0.251412\tvalidation_1-error:0.278568\n",
      "Multiple eval metrics have been passed: 'validation_1-error' will be used for early stopping.\n",
      "\n",
      "Will train until validation_1-error hasn't improved in 50 rounds.\n",
      "[10]\tvalidation_0-error:0.231736\tvalidation_1-error:0.266125\n",
      "[20]\tvalidation_0-error:0.223548\tvalidation_1-error:0.260538\n",
      "[30]\tvalidation_0-error:0.217328\tvalidation_1-error:0.259015\n",
      "[40]\tvalidation_0-error:0.211679\tvalidation_1-error:0.260538\n",
      "[50]\tvalidation_0-error:0.208823\tvalidation_1-error:0.259777\n",
      "[60]\tvalidation_0-error:0.204316\tvalidation_1-error:0.263078\n",
      "[70]\tvalidation_0-error:0.200381\tvalidation_1-error:0.260792\n",
      "Stopping. Best iteration:\n",
      "[24]\tvalidation_0-error:0.221009\tvalidation_1-error:0.256983\n",
      "\n",
      "\n",
      "5-Fold XGB Accuracy Score: 0.7430167597765364\n",
      "\n",
      "Mean Accuracy Score:,  0.7429039551999892\n"
     ]
    }
   ],
   "source": [
    "KFold_Modeling(X_train, y_train, algorithm = 'XGB', k = 5)"
   ]
  },
  {
   "cell_type": "markdown",
   "metadata": {},
   "source": [
    "# TO-DO"
   ]
  }
 ],
 "metadata": {
  "kernelspec": {
   "display_name": "Python 3",
   "language": "python",
   "name": "python3"
  },
  "language_info": {
   "codemirror_mode": {
    "name": "ipython",
    "version": 3
   },
   "file_extension": ".py",
   "mimetype": "text/x-python",
   "name": "python",
   "nbconvert_exporter": "python",
   "pygments_lexer": "ipython3",
   "version": "3.7.7"
  },
  "toc": {
   "base_numbering": 1,
   "nav_menu": {},
   "number_sections": true,
   "sideBar": true,
   "skip_h1_title": false,
   "title_cell": "Table of Contents",
   "title_sidebar": "Contents",
   "toc_cell": false,
   "toc_position": {
    "height": "calc(100% - 180px)",
    "left": "10px",
    "top": "150px",
    "width": "284.643px"
   },
   "toc_section_display": true,
   "toc_window_display": false
  },
  "varInspector": {
   "cols": {
    "lenName": 16,
    "lenType": 16,
    "lenVar": 40
   },
   "kernels_config": {
    "python": {
     "delete_cmd_postfix": "",
     "delete_cmd_prefix": "del ",
     "library": "var_list.py",
     "varRefreshCmd": "print(var_dic_list())"
    },
    "r": {
     "delete_cmd_postfix": ") ",
     "delete_cmd_prefix": "rm(",
     "library": "var_list.r",
     "varRefreshCmd": "cat(var_dic_list()) "
    }
   },
   "types_to_exclude": [
    "module",
    "function",
    "builtin_function_or_method",
    "instance",
    "_Feature"
   ],
   "window_display": false
  }
 },
 "nbformat": 4,
 "nbformat_minor": 4
}
