{
 "cells": [
  {
   "cell_type": "markdown",
   "metadata": {},
   "source": [
    "# Import Module"
   ]
  },
  {
   "cell_type": "code",
   "execution_count": 8,
   "metadata": {
    "ExecuteTime": {
     "end_time": "2020-07-15T08:18:15.644203Z",
     "start_time": "2020-07-15T08:18:15.632993Z"
    }
   },
   "outputs": [
    {
     "name": "stdout",
     "output_type": "stream",
     "text": [
      "['Preprocess_test.csv', 'Preprocess_train.csv', 'test.csv', 'train.csv']\n"
     ]
    }
   ],
   "source": [
    "import pandas as pd\n",
    "import numpy as np\n",
    "\n",
    "import os\n",
    "import warnings\n",
    "warnings.filterwarnings('ignore')\n",
    "print(os.listdir('../dataset/preprocessing'))"
   ]
  },
  {
   "cell_type": "markdown",
   "metadata": {},
   "source": [
    "# Load Dataset"
   ]
  },
  {
   "cell_type": "code",
   "execution_count": 6,
   "metadata": {
    "ExecuteTime": {
     "end_time": "2020-07-15T08:17:38.654242Z",
     "start_time": "2020-07-15T08:17:38.645443Z"
    }
   },
   "outputs": [],
   "source": [
    "IMPORT_PATH = '../dataset/preprocessing/'"
   ]
  },
  {
   "cell_type": "code",
   "execution_count": 11,
   "metadata": {
    "ExecuteTime": {
     "end_time": "2020-07-15T11:51:52.331599Z",
     "start_time": "2020-07-15T11:51:52.153254Z"
    }
   },
   "outputs": [],
   "source": [
    "train = pd.read_csv(IMPORT_PATH + 'Preprocess_train.csv')\n",
    "test = pd.read_csv(IMPORT_PATH + 'Preprocess_test.csv')"
   ]
  },
  {
   "cell_type": "markdown",
   "metadata": {},
   "source": [
    "# Check Dataset"
   ]
  },
  {
   "cell_type": "code",
   "execution_count": 12,
   "metadata": {
    "ExecuteTime": {
     "end_time": "2020-07-15T11:51:52.749580Z",
     "start_time": "2020-07-15T11:51:52.717478Z"
    }
   },
   "outputs": [
    {
     "name": "stdout",
     "output_type": "stream",
     "text": [
      "Train Dataset Shape:  (19693, 60)\n"
     ]
    },
    {
     "data": {
      "text/html": [
       "<div>\n",
       "<style scoped>\n",
       "    .dataframe tbody tr th:only-of-type {\n",
       "        vertical-align: middle;\n",
       "    }\n",
       "\n",
       "    .dataframe tbody tr th {\n",
       "        vertical-align: top;\n",
       "    }\n",
       "\n",
       "    .dataframe thead th {\n",
       "        text-align: right;\n",
       "    }\n",
       "</style>\n",
       "<table border=\"1\" class=\"dataframe\">\n",
       "  <thead>\n",
       "    <tr style=\"text-align: right;\">\n",
       "      <th></th>\n",
       "      <th>gameId</th>\n",
       "      <th>blueTotalGolds</th>\n",
       "      <th>blueCurrentGolds</th>\n",
       "      <th>blueTotalLevel</th>\n",
       "      <th>blueAvgLevel</th>\n",
       "      <th>blueTotalMinionKills</th>\n",
       "      <th>blueTotalJungleMinionKills</th>\n",
       "      <th>blueFirstBlood</th>\n",
       "      <th>blueKill</th>\n",
       "      <th>blueDeath</th>\n",
       "      <th>...</th>\n",
       "      <th>D_[]['FIRE_DRAGON']</th>\n",
       "      <th>D_[]['WATER_DRAGON']</th>\n",
       "      <th>D_[][]</th>\n",
       "      <th>T_['BOT_LANE'][]</th>\n",
       "      <th>T_['MID_LANE'][]</th>\n",
       "      <th>T_['TOP_LANE'][]</th>\n",
       "      <th>T_[]['BOT_LANE']</th>\n",
       "      <th>T_[]['MID_LANE']</th>\n",
       "      <th>T_[]['TOP_LANE']</th>\n",
       "      <th>T_[][]</th>\n",
       "    </tr>\n",
       "  </thead>\n",
       "  <tbody>\n",
       "    <tr>\n",
       "      <th>0</th>\n",
       "      <td>4204710612</td>\n",
       "      <td>19975</td>\n",
       "      <td>3374</td>\n",
       "      <td>35</td>\n",
       "      <td>7.0</td>\n",
       "      <td>216</td>\n",
       "      <td>38</td>\n",
       "      <td>0</td>\n",
       "      <td>13</td>\n",
       "      <td>6</td>\n",
       "      <td>...</td>\n",
       "      <td>0.0</td>\n",
       "      <td>0.0</td>\n",
       "      <td>0.0</td>\n",
       "      <td>1.0</td>\n",
       "      <td>0.0</td>\n",
       "      <td>0.0</td>\n",
       "      <td>0.0</td>\n",
       "      <td>0.0</td>\n",
       "      <td>0.0</td>\n",
       "      <td>0.0</td>\n",
       "    </tr>\n",
       "    <tr>\n",
       "      <th>1</th>\n",
       "      <td>4153551749</td>\n",
       "      <td>15892</td>\n",
       "      <td>4012</td>\n",
       "      <td>36</td>\n",
       "      <td>7.2</td>\n",
       "      <td>215</td>\n",
       "      <td>57</td>\n",
       "      <td>0</td>\n",
       "      <td>5</td>\n",
       "      <td>4</td>\n",
       "      <td>...</td>\n",
       "      <td>1.0</td>\n",
       "      <td>0.0</td>\n",
       "      <td>0.0</td>\n",
       "      <td>0.0</td>\n",
       "      <td>0.0</td>\n",
       "      <td>0.0</td>\n",
       "      <td>0.0</td>\n",
       "      <td>0.0</td>\n",
       "      <td>0.0</td>\n",
       "      <td>1.0</td>\n",
       "    </tr>\n",
       "    <tr>\n",
       "      <th>2</th>\n",
       "      <td>4139787761</td>\n",
       "      <td>16270</td>\n",
       "      <td>2485</td>\n",
       "      <td>35</td>\n",
       "      <td>7.0</td>\n",
       "      <td>227</td>\n",
       "      <td>56</td>\n",
       "      <td>0</td>\n",
       "      <td>5</td>\n",
       "      <td>6</td>\n",
       "      <td>...</td>\n",
       "      <td>0.0</td>\n",
       "      <td>0.0</td>\n",
       "      <td>0.0</td>\n",
       "      <td>0.0</td>\n",
       "      <td>0.0</td>\n",
       "      <td>0.0</td>\n",
       "      <td>0.0</td>\n",
       "      <td>0.0</td>\n",
       "      <td>0.0</td>\n",
       "      <td>1.0</td>\n",
       "    </tr>\n",
       "    <tr>\n",
       "      <th>3</th>\n",
       "      <td>4202227127</td>\n",
       "      <td>16605</td>\n",
       "      <td>3290</td>\n",
       "      <td>34</td>\n",
       "      <td>6.8</td>\n",
       "      <td>194</td>\n",
       "      <td>28</td>\n",
       "      <td>0</td>\n",
       "      <td>8</td>\n",
       "      <td>10</td>\n",
       "      <td>...</td>\n",
       "      <td>0.0</td>\n",
       "      <td>0.0</td>\n",
       "      <td>1.0</td>\n",
       "      <td>0.0</td>\n",
       "      <td>0.0</td>\n",
       "      <td>0.0</td>\n",
       "      <td>0.0</td>\n",
       "      <td>0.0</td>\n",
       "      <td>1.0</td>\n",
       "      <td>0.0</td>\n",
       "    </tr>\n",
       "    <tr>\n",
       "      <th>4</th>\n",
       "      <td>4189344068</td>\n",
       "      <td>14980</td>\n",
       "      <td>665</td>\n",
       "      <td>33</td>\n",
       "      <td>6.6</td>\n",
       "      <td>199</td>\n",
       "      <td>56</td>\n",
       "      <td>0</td>\n",
       "      <td>4</td>\n",
       "      <td>13</td>\n",
       "      <td>...</td>\n",
       "      <td>0.0</td>\n",
       "      <td>1.0</td>\n",
       "      <td>0.0</td>\n",
       "      <td>0.0</td>\n",
       "      <td>0.0</td>\n",
       "      <td>0.0</td>\n",
       "      <td>0.0</td>\n",
       "      <td>0.0</td>\n",
       "      <td>0.0</td>\n",
       "      <td>1.0</td>\n",
       "    </tr>\n",
       "  </tbody>\n",
       "</table>\n",
       "<p>5 rows × 60 columns</p>\n",
       "</div>"
      ],
      "text/plain": [
       "       gameId  blueTotalGolds  blueCurrentGolds  blueTotalLevel  blueAvgLevel  \\\n",
       "0  4204710612           19975              3374              35           7.0   \n",
       "1  4153551749           15892              4012              36           7.2   \n",
       "2  4139787761           16270              2485              35           7.0   \n",
       "3  4202227127           16605              3290              34           6.8   \n",
       "4  4189344068           14980               665              33           6.6   \n",
       "\n",
       "   blueTotalMinionKills  blueTotalJungleMinionKills  blueFirstBlood  blueKill  \\\n",
       "0                   216                          38               0        13   \n",
       "1                   215                          57               0         5   \n",
       "2                   227                          56               0         5   \n",
       "3                   194                          28               0         8   \n",
       "4                   199                          56               0         4   \n",
       "\n",
       "   blueDeath  ...  D_[]['FIRE_DRAGON']  D_[]['WATER_DRAGON']  D_[][]  \\\n",
       "0          6  ...                  0.0                   0.0     0.0   \n",
       "1          4  ...                  1.0                   0.0     0.0   \n",
       "2          6  ...                  0.0                   0.0     0.0   \n",
       "3         10  ...                  0.0                   0.0     1.0   \n",
       "4         13  ...                  0.0                   1.0     0.0   \n",
       "\n",
       "   T_['BOT_LANE'][]  T_['MID_LANE'][]  T_['TOP_LANE'][]  T_[]['BOT_LANE']  \\\n",
       "0               1.0               0.0               0.0               0.0   \n",
       "1               0.0               0.0               0.0               0.0   \n",
       "2               0.0               0.0               0.0               0.0   \n",
       "3               0.0               0.0               0.0               0.0   \n",
       "4               0.0               0.0               0.0               0.0   \n",
       "\n",
       "   T_[]['MID_LANE']  T_[]['TOP_LANE']  T_[][]  \n",
       "0               0.0               0.0     0.0  \n",
       "1               0.0               0.0     1.0  \n",
       "2               0.0               0.0     1.0  \n",
       "3               0.0               1.0     0.0  \n",
       "4               0.0               0.0     1.0  \n",
       "\n",
       "[5 rows x 60 columns]"
      ]
     },
     "execution_count": 12,
     "metadata": {},
     "output_type": "execute_result"
    }
   ],
   "source": [
    "print('Train Dataset Shape: ', train.shape)\n",
    "train.head()"
   ]
  },
  {
   "cell_type": "markdown",
   "metadata": {},
   "source": [
    "# TO-DO"
   ]
  }
 ],
 "metadata": {
  "kernelspec": {
   "display_name": "Python 3",
   "language": "python",
   "name": "python3"
  },
  "language_info": {
   "codemirror_mode": {
    "name": "ipython",
    "version": 3
   },
   "file_extension": ".py",
   "mimetype": "text/x-python",
   "name": "python",
   "nbconvert_exporter": "python",
   "pygments_lexer": "ipython3",
   "version": "3.7.7"
  },
  "toc": {
   "base_numbering": 1,
   "nav_menu": {},
   "number_sections": true,
   "sideBar": true,
   "skip_h1_title": false,
   "title_cell": "Table of Contents",
   "title_sidebar": "Contents",
   "toc_cell": false,
   "toc_position": {},
   "toc_section_display": true,
   "toc_window_display": false
  },
  "varInspector": {
   "cols": {
    "lenName": 16,
    "lenType": 16,
    "lenVar": 40
   },
   "kernels_config": {
    "python": {
     "delete_cmd_postfix": "",
     "delete_cmd_prefix": "del ",
     "library": "var_list.py",
     "varRefreshCmd": "print(var_dic_list())"
    },
    "r": {
     "delete_cmd_postfix": ") ",
     "delete_cmd_prefix": "rm(",
     "library": "var_list.r",
     "varRefreshCmd": "cat(var_dic_list()) "
    }
   },
   "types_to_exclude": [
    "module",
    "function",
    "builtin_function_or_method",
    "instance",
    "_Feature"
   ],
   "window_display": false
  }
 },
 "nbformat": 4,
 "nbformat_minor": 4
}
