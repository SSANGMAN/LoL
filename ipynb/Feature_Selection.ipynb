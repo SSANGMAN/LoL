{
 "cells": [
  {
   "cell_type": "markdown",
   "metadata": {},
   "source": [
    "# Import Module"
   ]
  },
  {
   "cell_type": "code",
   "execution_count": 154,
   "metadata": {
    "ExecuteTime": {
     "end_time": "2020-08-17T12:54:26.253011Z",
     "start_time": "2020-08-17T12:54:26.222587Z"
    }
   },
   "outputs": [
    {
     "name": "stdout",
     "output_type": "stream",
     "text": [
      "['Preprocess_test.csv', 'Preprocess_train.csv', 'test.csv', 'train.csv']\n",
      "['XGB_0.731', 'XGB_0.732', 'XGB_0.734', 'XGB_0.734_10', 'XGB_0.735', 'XGB_0.809_15']\n"
     ]
    }
   ],
   "source": [
    "import pandas as pd\n",
    "import numpy as np\n",
    "import matplotlib.pyplot as plt\n",
    "import seaborn as sns\n",
    "\n",
    "import joblib\n",
    "import warnings\n",
    "import sys\n",
    "import os\n",
    "print(os.listdir('../dataset/preprocessing'))\n",
    "print(os.listdir('../model'))\n",
    "warnings.filterwarnings('ignore')\n",
    "sys.path.append('../code')\n",
    "\n",
    "from sklearn.feature_selection import RFE, RFECV\n",
    "from sklearn.metrics import accuracy_score, confusion_matrix\n",
    "import xgboost as xgb\n",
    "from xgboost import XGBClassifier\n",
    "\n",
    "# Custom Module\n",
    "from dataset.load import Load_Data\n",
    "from preprocessing.preprocessing import DeriveFeature, Preprocess\n",
    "from modeling.Validation import KFoldValidation\n",
    "from modeling.HyperParameterTuning import RandomForestEvaluation, XGBEvaluation"
   ]
  },
  {
   "cell_type": "markdown",
   "metadata": {},
   "source": [
    "# Load Model & Dataset"
   ]
  },
  {
   "cell_type": "code",
   "execution_count": 5,
   "metadata": {
    "ExecuteTime": {
     "end_time": "2020-08-17T08:49:35.769773Z",
     "start_time": "2020-08-17T08:49:35.758189Z"
    }
   },
   "outputs": [],
   "source": [
    "DATA_PATH = '../dataset'\n",
    "MODEL_PATH = '../model'"
   ]
  },
  {
   "cell_type": "markdown",
   "metadata": {},
   "source": [
    "## Data"
   ]
  },
  {
   "cell_type": "code",
   "execution_count": 7,
   "metadata": {
    "ExecuteTime": {
     "end_time": "2020-08-17T08:49:48.866768Z",
     "start_time": "2020-08-17T08:49:47.655953Z"
    }
   },
   "outputs": [
    {
     "name": "stdout",
     "output_type": "stream",
     "text": [
      "Train Dataset Shape:  (19806, 50)\n",
      "Test Dataset Shape:  (6603, 50)\n",
      "Preprocessed Train Dataset Shape: (19693, 58)\n",
      "Preprocessed Test Dataset Shape: (6571, 58)\n",
      "Just allocating Columns Name.\n"
     ]
    }
   ],
   "source": [
    "train, test = Load_Data(DATA_PATH, minute = 10, return_test = True, split_size = 0.25)\n",
    "X_train, X_test, y_train, y_test = Preprocess(train, test, scaling = False, just_colnames = False)\n",
    "col_names = Preprocess(train, test, scaling = False, just_colnames = True)"
   ]
  },
  {
   "cell_type": "markdown",
   "metadata": {},
   "source": [
    "## Model"
   ]
  },
  {
   "cell_type": "code",
   "execution_count": 8,
   "metadata": {
    "ExecuteTime": {
     "end_time": "2020-08-17T08:50:29.320090Z",
     "start_time": "2020-08-17T08:50:28.489016Z"
    }
   },
   "outputs": [
    {
     "data": {
      "text/plain": [
       "XGBClassifier(bagging_fraction=0.5504217949108876, base_score=0.5,\n",
       "              booster='gbtree', colsample_bylevel=1, colsample_bynode=1,\n",
       "              colsample_bytree=0.8510042690715668, eval_metric='error',\n",
       "              feature_fraction=0.6859541749154623, gamma=0.6148753896468939,\n",
       "              learning_rate=0.1078166067590229, max_delta_step=0, max_depth=4,\n",
       "              min_child_samples=10, min_child_weight=1, missing=nan,\n",
       "              n_estimators=100, n_jobs=1, nthread=None, num_leaves=40,\n",
       "              objective='binary:logistic', random_state=42,\n",
       "              reg_alpha=0.3835375604344825, reg_lambda=0.6052040861088117,\n",
       "              scale_pos_weight=1, seed=None, silent=None, subsample=0.5,\n",
       "              verbosity=1)"
      ]
     },
     "execution_count": 8,
     "metadata": {},
     "output_type": "execute_result"
    }
   ],
   "source": [
    "pre_train_xgb = joblib.load(os.path.join(MODEL_PATH, 'XGB_0.734'))\n",
    "pre_train_xgb"
   ]
  },
  {
   "cell_type": "markdown",
   "metadata": {},
   "source": [
    "# Feature Selection"
   ]
  },
  {
   "cell_type": "markdown",
   "metadata": {},
   "source": [
    "## Recursive Feature Elimination"
   ]
  },
  {
   "cell_type": "code",
   "execution_count": 16,
   "metadata": {
    "ExecuteTime": {
     "end_time": "2020-08-17T08:56:46.392437Z",
     "start_time": "2020-08-17T08:56:05.123588Z"
    }
   },
   "outputs": [
    {
     "name": "stdout",
     "output_type": "stream",
     "text": [
      "Fitting estimator with 58 features.\n",
      "Fitting estimator with 48 features.\n",
      "Fitting estimator with 38 features.\n",
      "Fitting estimator with 28 features.\n",
      "Num Features: 20\n",
      "Selected Features: [ True False  True  True False False False False False False False False\n",
      " False  True  True  True False False False False  True False  True False\n",
      " False False False False  True False False False  True  True  True False\n",
      " False  True False False  True  True False  True  True  True False False\n",
      "  True  True False False False False False False False False]\n",
      "Feature Ranking: [1 3 1 1 2 2 5 3 3 4 3 4 5 1 1 1 3 3 4 4 1 4 1 3 2 2 5 5 1 2 3 4 1 1 1 2 2\n",
      " 1 4 3 1 1 3 1 1 1 4 4 1 1 5 5 5 5 2 5 4 5]\n"
     ]
    }
   ],
   "source": [
    "rfe = RFE(pre_train_xgb, 20, step = 10, verbose = 1)\n",
    "\n",
    "fit = rfe.fit(X_train, y_train)\n",
    "print(\"Num Features: %d\" % fit.n_features_)\n",
    "print(\"Selected Features: %s\" % fit.support_)\n",
    "print(\"Feature Ranking: %s\" % fit.ranking_)"
   ]
  },
  {
   "cell_type": "code",
   "execution_count": 131,
   "metadata": {
    "ExecuteTime": {
     "end_time": "2020-08-17T12:40:59.292283Z",
     "start_time": "2020-08-17T12:40:59.274159Z"
    }
   },
   "outputs": [
    {
     "data": {
      "text/plain": [
       "array([0.83])"
      ]
     },
     "execution_count": 131,
     "metadata": {},
     "output_type": "execute_result"
    }
   ],
   "source": [
    "tmp = np.array([0.83,0.82,0.77,0.65,0.5])\n",
    "tmp_index = np.where(tmp == max(tmp))\n",
    "tmp[tmp_index]"
   ]
  },
  {
   "cell_type": "code",
   "execution_count": 107,
   "metadata": {
    "ExecuteTime": {
     "end_time": "2020-08-17T12:02:20.881363Z",
     "start_time": "2020-08-17T12:02:20.868408Z"
    }
   },
   "outputs": [
    {
     "data": {
      "text/plain": [
       "array([0.83])"
      ]
     },
     "execution_count": 107,
     "metadata": {},
     "output_type": "execute_result"
    }
   ],
   "source": [
    "tmp[np.where(tmp == max(tmp))]"
   ]
  },
  {
   "cell_type": "code",
   "execution_count": 150,
   "metadata": {
    "ExecuteTime": {
     "end_time": "2020-08-17T12:48:18.567889Z",
     "start_time": "2020-08-17T12:48:18.534552Z"
    }
   },
   "outputs": [],
   "source": [
    "class FeatureSelection:\n",
    "    def __init__(self, model, train_features, train_label, test_features, test_label):\n",
    "        self.model = model\n",
    "        self.X_train = train_features\n",
    "        self.y_train = train_label\n",
    "        self.X_test = test_features\n",
    "        self.y_test = test_label\n",
    "        \n",
    "    def RecursiveFeatureElimination(self, n_features, step):\n",
    "        accuracy_list = []\n",
    "        \n",
    "        if type(n_features) == list:\n",
    "            for i in n_features:\n",
    "                print(\"Feature Selection Algorithm Start... \\nNumber of Features: {} | Elimination Step: {}\".format(i, step))\n",
    "                rfe_selector = RFE(self.model, i, step = step, verbose = 1)\n",
    "                rfe_model = rfe_selector.fit(self.X_train, self.y_train)\n",
    "                pred = rfe_selector.predict(self.X_test)\n",
    "                \n",
    "                acc_score = accuracy_score(self.y_test, pred)\n",
    "                accuracy_list.append(acc_score)\n",
    "                print(\"Accuracy Score: \", acc_score)\n",
    "            \n",
    "            accuracy_array = np.array(accuracy_list)\n",
    "            max_accuracy_index = int(np.where(accuracy_array == max(accuracy_array))[0])\n",
    "            print(\"\\nMax Accuracy Score: {} | Number of Features: {}\".format(max(accuracy_array), n_features[max_accuracy_index]))\n",
    "            \n",
    "    def RecursiveFeatureEliminationCV(self, step, cv):\n",
    "        self.step = step\n",
    "        self.cv = cv\n",
    "        \n",
    "        rfecv_selector = RFECV(self.model, step = self.step, cv = self.cv)\n",
    "        rfecv_model = rfecv_selector.fit(self.X_train, self.y_train)\n",
    "        \n",
    "        print(\"Num Features: %d\" % rfecv_model.n_features_)\n",
    "        print(\"Selected Features: %s\" % rfecv_model.support_)\n",
    "        print(\"Feature Ranking: %s\" % rfecv_model.ranking_)"
   ]
  },
  {
   "cell_type": "code",
   "execution_count": null,
   "metadata": {
    "ExecuteTime": {
     "start_time": "2020-08-17T13:13:21.192Z"
    }
   },
   "outputs": [
    {
     "name": "stdout",
     "output_type": "stream",
     "text": [
      "Feature Selection Algorithm Start... \n",
      "Number of Features: 10 | Elimination Step: 10\n",
      "Fitting estimator with 58 features.\n",
      "Fitting estimator with 48 features.\n",
      "Fitting estimator with 38 features.\n",
      "Fitting estimator with 28 features.\n",
      "Fitting estimator with 18 features.\n",
      "Accuracy Score:  0.7297215035763202\n",
      "Feature Selection Algorithm Start... \n",
      "Number of Features: 20 | Elimination Step: 10\n",
      "Fitting estimator with 58 features.\n",
      "Fitting estimator with 48 features.\n",
      "Fitting estimator with 38 features.\n",
      "Fitting estimator with 28 features.\n",
      "Accuracy Score:  0.7338304672043829\n",
      "Feature Selection Algorithm Start... \n",
      "Number of Features: 30 | Elimination Step: 10\n",
      "Fitting estimator with 58 features.\n"
     ]
    }
   ],
   "source": [
    "fs = FeatureSelection(pre_train_xgb, X_train, y_train, X_test, y_test)\n",
    "fs.RecursiveFeatureElimination(n_features = [10, 20, 30, 40, 50, 58], step = 10)"
   ]
  },
  {
   "cell_type": "code",
   "execution_count": 155,
   "metadata": {
    "ExecuteTime": {
     "end_time": "2020-08-17T13:00:45.045527Z",
     "start_time": "2020-08-17T12:54:29.149122Z"
    }
   },
   "outputs": [
    {
     "name": "stdout",
     "output_type": "stream",
     "text": [
      "Num Features: 58\n",
      "Selected Features: [ True  True  True  True  True  True  True  True  True  True  True  True\n",
      "  True  True  True  True  True  True  True  True  True  True  True  True\n",
      "  True  True  True  True  True  True  True  True  True  True  True  True\n",
      "  True  True  True  True  True  True  True  True  True  True  True  True\n",
      "  True  True  True  True  True  True  True  True  True  True]\n",
      "Feature Ranking: [1 1 1 1 1 1 1 1 1 1 1 1 1 1 1 1 1 1 1 1 1 1 1 1 1 1 1 1 1 1 1 1 1 1 1 1 1\n",
      " 1 1 1 1 1 1 1 1 1 1 1 1 1 1 1 1 1 1 1 1 1]\n"
     ]
    }
   ],
   "source": [
    "fs.RecursiveFeatureEliminationCV(step = 5, cv = 5)"
   ]
  }
 ],
 "metadata": {
  "kernelspec": {
   "display_name": "Python 3",
   "language": "python",
   "name": "python3"
  },
  "language_info": {
   "codemirror_mode": {
    "name": "ipython",
    "version": 3
   },
   "file_extension": ".py",
   "mimetype": "text/x-python",
   "name": "python",
   "nbconvert_exporter": "python",
   "pygments_lexer": "ipython3",
   "version": "3.7.7"
  },
  "toc": {
   "base_numbering": 1,
   "nav_menu": {},
   "number_sections": true,
   "sideBar": true,
   "skip_h1_title": false,
   "title_cell": "Table of Contents",
   "title_sidebar": "Contents",
   "toc_cell": false,
   "toc_position": {},
   "toc_section_display": true,
   "toc_window_display": true
  },
  "varInspector": {
   "cols": {
    "lenName": 16,
    "lenType": 16,
    "lenVar": 40
   },
   "kernels_config": {
    "python": {
     "delete_cmd_postfix": "",
     "delete_cmd_prefix": "del ",
     "library": "var_list.py",
     "varRefreshCmd": "print(var_dic_list())"
    },
    "r": {
     "delete_cmd_postfix": ") ",
     "delete_cmd_prefix": "rm(",
     "library": "var_list.r",
     "varRefreshCmd": "cat(var_dic_list()) "
    }
   },
   "types_to_exclude": [
    "module",
    "function",
    "builtin_function_or_method",
    "instance",
    "_Feature"
   ],
   "window_display": false
  }
 },
 "nbformat": 4,
 "nbformat_minor": 4
}
